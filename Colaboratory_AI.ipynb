{
  "nbformat": 4,
  "nbformat_minor": 0,
  "metadata": {
    "colab": {
      "name": "Colaboratory  AI",
      "provenance": [],
      "collapsed_sections": [],
      "toc_visible": true,
      "include_colab_link": true
    },
    "kernelspec": {
      "display_name": "Python 3",
      "name": "python3"
    }
  },
  "cells": [
    {
      "cell_type": "markdown",
      "metadata": {
        "id": "view-in-github",
        "colab_type": "text"
      },
      "source": [
        "<a href=\"https://colab.research.google.com/github/metacogpe/colab/blob/master/Colaboratory_AI.ipynb\" target=\"_parent\"><img src=\"https://colab.research.google.com/assets/colab-badge.svg\" alt=\"Open In Colab\"/></a>"
      ]
    },
    {
      "cell_type": "markdown",
      "metadata": {
        "id": "E_vljnXYndNx",
        "colab_type": "text"
      },
      "source": [
        "# ML\n",
        "\n"
      ]
    },
    {
      "cell_type": "markdown",
      "metadata": {
        "id": "cabUel5-jUmX",
        "colab_type": "text"
      },
      "source": [
        "\n",
        "## 1) 텍스트 마이닝"
      ]
    },
    {
      "cell_type": "code",
      "metadata": {
        "id": "csJyHvugnkPv",
        "colab_type": "code",
        "colab": {}
      },
      "source": [
        ""
      ],
      "execution_count": 0,
      "outputs": []
    },
    {
      "cell_type": "markdown",
      "metadata": {
        "id": "3lF1uzvnioM8",
        "colab_type": "text"
      },
      "source": [
        "## 2) 군집분석 일반 "
      ]
    },
    {
      "cell_type": "code",
      "metadata": {
        "id": "sFMHcW3wirBh",
        "colab_type": "code",
        "outputId": "d1cf79df-2fd6-4bcd-e573-d1b7b7d601fe",
        "colab": {
          "base_uri": "https://localhost:8080/",
          "height": 282
        }
      },
      "source": [
        "import matplotlib.pyplot as plt\n",
        "from sklearn import cluster\n",
        "from sklearn import datasets\n",
        "%matplotlib inline\n",
        "\n",
        "# 데이터 로드\n",
        "iris = datasets.load_iris()\n",
        "data = iris['data']\n",
        "\n",
        "# 학습 :클러스터 생성\n",
        "model = cluster.KMeans(n_clusters=3)  # 임의의 갯수로 설정 \n",
        "model.fit(data)\n",
        "\n",
        "# 학습 결과의 라벨 취득 --> 질문 필요 \n",
        "labels = model.labels_  # 모델학습을 하면 라벨을 취득할 수 있음 \n",
        "\n",
        "# 그래프 그리기 \n",
        "ldata = data[labels == 0]  # 취득된 라벨이 0인경우 \n",
        "plt.scatter(ldata[:,2], ldata[:,3],\n",
        "            c='red', alpha=0.3,s=100, marker=\"o\")\n",
        "\n",
        "ldata = data[labels == 1]  # 취득된 라벨이 1인경우\n",
        "plt.scatter(ldata[:,2], ldata[:,3],\n",
        "            c='blue', alpha=0.3,s=100, marker=\"o\")\n",
        "\n",
        "ldata = data[labels == 2]   # 취득된 라벨이 2인경우\n",
        "plt.scatter(ldata[:,2], ldata[:,3],\n",
        "            c='yellow', alpha=0.3,s=100, marker=\"o\")\n",
        "\n",
        "# 축 라벨의 설정(x,y의 2차원 그래프)\n",
        "plt.xlabel(iris[\"feature_names\"][2],fontsize='large')\n",
        "plt.ylabel(iris[\"feature_names\"][3],fontsize='large')\n",
        "\n",
        "plt.show()\n",
        "\n"
      ],
      "execution_count": 0,
      "outputs": [
        {
          "output_type": "display_data",
          "data": {
            "image/png": "[encoded data removed]",
            "text/plain": [
              "<Figure size 432x288 with 1 Axes>"
            ]
          },
          "metadata": {
            "tags": []
          }
        }
      ]
    },
    {
      "cell_type": "code",
      "metadata": {
        "id": "5Rnzd37JnIjk",
        "colab_type": "code",
        "outputId": "12b0dca3-0438-4077-de1e-d39174058fc0",
        "colab": {
          "base_uri": "https://localhost:8080/",
          "height": 143
        }
      },
      "source": [
        "model.labels_"
      ],
      "execution_count": 0,
      "outputs": [
        {
          "output_type": "execute_result",
          "data": {
            "text/plain": [
              "array([1, 1, 1, 1, 1, 1, 1, 1, 1, 1, 1, 1, 1, 1, 1, 1, 1, 1, 1, 1, 1, 1,\n",
              "       1, 1, 1, 1, 1, 1, 1, 1, 1, 1, 1, 1, 1, 1, 1, 1, 1, 1, 1, 1, 1, 1,\n",
              "       1, 1, 1, 1, 1, 1, 0, 0, 2, 0, 0, 0, 0, 0, 0, 0, 0, 0, 0, 0, 0, 0,\n",
              "       0, 0, 0, 0, 0, 0, 0, 0, 0, 0, 0, 2, 0, 0, 0, 0, 0, 0, 0, 0, 0, 0,\n",
              "       0, 0, 0, 0, 0, 0, 0, 0, 0, 0, 0, 0, 2, 0, 2, 2, 2, 2, 0, 2, 2, 2,\n",
              "       2, 2, 2, 0, 0, 2, 2, 2, 2, 0, 2, 0, 2, 0, 2, 2, 0, 0, 2, 2, 2, 2,\n",
              "       2, 0, 2, 2, 2, 2, 0, 2, 2, 2, 0, 2, 2, 2, 0, 2, 2, 0], dtype=int32)"
            ]
          },
          "metadata": {
            "tags": []
          },
          "execution_count": 6
        }
      ]
    },
    {
      "cell_type": "code",
      "metadata": {
        "id": "cCvKEcBsnRYq",
        "colab_type": "code",
        "colab": {}
      },
      "source": [
        "data, data.shape, type(data)"
      ],
      "execution_count": 0,
      "outputs": []
    },
    {
      "cell_type": "code",
      "metadata": {
        "id": "B_jwhPiUnbVu",
        "colab_type": "code",
        "outputId": "5e91ef68-b885-466b-895c-848f08ec37cd",
        "colab": {
          "base_uri": "https://localhost:8080/",
          "height": 323
        }
      },
      "source": [
        "iris['target'] == model.labels_  # 아래의 예측과 타겟이 일치하는 경우가 거의 없음\n",
        "                                 # 따라서, 군집과 iris타겟과는 관련이 없음 "
      ],
      "execution_count": 0,
      "outputs": [
        {
          "output_type": "execute_result",
          "data": {
            "text/plain": [
              "array([False, False, False, False, False, False, False, False, False,\n",
              "       False, False, False, False, False, False, False, False, False,\n",
              "       False, False, False, False, False, False, False, False, False,\n",
              "       False, False, False, False, False, False, False, False, False,\n",
              "       False, False, False, False, False, False, False, False, False,\n",
              "       False, False, False, False, False, False, False, False, False,\n",
              "       False, False, False, False, False, False, False, False, False,\n",
              "       False, False, False, False, False, False, False, False, False,\n",
              "       False, False, False, False, False, False, False, False, False,\n",
              "       False, False, False, False, False, False, False, False, False,\n",
              "       False, False, False, False, False, False, False, False, False,\n",
              "       False,  True, False,  True,  True,  True,  True, False,  True,\n",
              "        True,  True,  True,  True,  True, False, False,  True,  True,\n",
              "        True,  True, False,  True, False,  True, False,  True,  True,\n",
              "       False, False,  True,  True,  True,  True,  True, False,  True,\n",
              "        True,  True,  True, False,  True,  True,  True, False,  True,\n",
              "        True,  True, False,  True,  True, False])"
            ]
          },
          "metadata": {
            "tags": []
          },
          "execution_count": 9
        }
      ]
    },
    {
      "cell_type": "code",
      "metadata": {
        "id": "hcuqj0xyn2fh",
        "colab_type": "code",
        "outputId": "f63f00f1-1b4b-423a-f952-dc6349d9b009",
        "colab": {
          "base_uri": "https://localhost:8080/",
          "height": 89
        }
      },
      "source": [
        "iris[\"feature_names\"]"
      ],
      "execution_count": 0,
      "outputs": [
        {
          "output_type": "execute_result",
          "data": {
            "text/plain": [
              "['sepal length (cm)',\n",
              " 'sepal width (cm)',\n",
              " 'petal length (cm)',\n",
              " 'petal width (cm)']"
            ]
          },
          "metadata": {
            "tags": []
          },
          "execution_count": 10
        }
      ]
    },
    {
      "cell_type": "code",
      "metadata": {
        "id": "U-S4MuUdn7S0",
        "colab_type": "code",
        "outputId": "a6bf4316-703a-4a59-bc77-0c010013a441",
        "colab": {
          "base_uri": "https://localhost:8080/",
          "height": 143
        }
      },
      "source": [
        "iris['target']  # 군집분석은 우리가 사전에 정의한 타겟이 없어서 비지도학습"
      ],
      "execution_count": 0,
      "outputs": [
        {
          "output_type": "execute_result",
          "data": {
            "text/plain": [
              "array([0, 0, 0, 0, 0, 0, 0, 0, 0, 0, 0, 0, 0, 0, 0, 0, 0, 0, 0, 0, 0, 0,\n",
              "       0, 0, 0, 0, 0, 0, 0, 0, 0, 0, 0, 0, 0, 0, 0, 0, 0, 0, 0, 0, 0, 0,\n",
              "       0, 0, 0, 0, 0, 0, 1, 1, 1, 1, 1, 1, 1, 1, 1, 1, 1, 1, 1, 1, 1, 1,\n",
              "       1, 1, 1, 1, 1, 1, 1, 1, 1, 1, 1, 1, 1, 1, 1, 1, 1, 1, 1, 1, 1, 1,\n",
              "       1, 1, 1, 1, 1, 1, 1, 1, 1, 1, 1, 1, 2, 2, 2, 2, 2, 2, 2, 2, 2, 2,\n",
              "       2, 2, 2, 2, 2, 2, 2, 2, 2, 2, 2, 2, 2, 2, 2, 2, 2, 2, 2, 2, 2, 2,\n",
              "       2, 2, 2, 2, 2, 2, 2, 2, 2, 2, 2, 2, 2, 2, 2, 2, 2, 2])"
            ]
          },
          "metadata": {
            "tags": []
          },
          "execution_count": 11
        }
      ]
    },
    {
      "cell_type": "markdown",
      "metadata": {
        "id": "5HJF2jjbog_1",
        "colab_type": "text"
      },
      "source": [
        "## 3) iris를 이용한 계층형 군집분석\n"
      ]
    },
    {
      "cell_type": "code",
      "metadata": {
        "id": "Db1vPBtqosu3",
        "colab_type": "code",
        "outputId": "730a8425-ef5e-4460-af6d-e9e71e91d57a",
        "colab": {
          "base_uri": "https://localhost:8080/",
          "height": 298
        }
      },
      "source": [
        "import matplotlib.pyplot as plt\n",
        "from sklearn import cluster\n",
        "from sklearn import datasets\n",
        "\n",
        "# 데이터 로딩\n",
        "iris = datasets.load_iris()\n",
        "data = iris[\"data\"]\n",
        "#계층형 클러스터 생성  --> 덴드로그램으로 표시, 군집간 거리를 ward방식으로 \n",
        "model = cluster.AgglomerativeClustering(n_clusters=3, linkage=\"ward\")\n",
        "model.fit(data)\n",
        "\n",
        "# 라벨 예측 : 훈련된 데이터로 부터 라벨이 도출 \n",
        "labels = model.labels_\n",
        "\n",
        "# 데이터 정의 \n",
        "x_index = 2\n",
        "y_index =3\n",
        "\n",
        "data_x = data[:,x_index]\n",
        "data_y = data[:,y_index]\n",
        "\n",
        "x_label = iris[\"feature_names\"][x_index]\n",
        "y_label = iris[\"feature_names\"][y_index]\n",
        "\n",
        "# 시각화 : 산포도 그리기 \n",
        "plt.scatter(data_x[labels==0], data_y[labels==0], c='red', alpha=0.15, s=10, marker=\"o\")\n",
        "plt.scatter(data_x[labels==1], data_y[labels==1], c='blue', alpha=0.15, s=10, marker=\"o\")\n",
        "plt.scatter(data_x[labels==2], data_y[labels==2], c='yellow', alpha=0.15, s=10, marker=\"o\")\n",
        "\n",
        "# 축 라벨과 타이틀 설정 \n",
        "plt.xlabel(x_label, fontsize='large')\n",
        "plt.xlabel(y_label, fontsize='large')\n",
        "plt.title(\"AgglomerativeClustering(ward)\", fontsize='large')\n",
        "plt.show()"
      ],
      "execution_count": 0,
      "outputs": [
        {
          "output_type": "display_data",
          "data": {
            "image/png": "[encoded data removed]",
            "text/plain": [
              "<Figure size 432x288 with 1 Axes>"
            ]
          },
          "metadata": {
            "tags": []
          }
        }
      ]
    },
    {
      "cell_type": "code",
      "metadata": {
        "id": "fY0OpzkcrUoj",
        "colab_type": "code",
        "outputId": "53182c54-1c4e-42d4-e386-4e6b077fec8f",
        "colab": {
          "base_uri": "https://localhost:8080/",
          "height": 647
        }
      },
      "source": [
        "# 덴드로그램으로 그리기 : dendrogram\n",
        "from scipy.cluster.hierarchy import dendrogram, linkage\n",
        "\n",
        "Z = linkage(data, 'ward')  # 연결정보에 대한 거리 대한 함수 정의 \n",
        "\n",
        "plt.figure(figsize=(25,10))\n",
        "plt.title('Hierachical Clustering Dendrogram')\n",
        "plt.xlabel('iris')\n",
        "plt.ylabel('distance')\n",
        "dendrogram(\n",
        "    Z,\n",
        "    leaf_rotation=90., # x축 라벨을 회전\n",
        "    leaf_font_size=8.,  # x축 라벨 폰트 사이즈 \n",
        ")\n",
        "plt.show()"
      ],
      "execution_count": 0,
      "outputs": [
        {
          "output_type": "display_data",
          "data": {
            "image/png": "[encoded data removed]",
            "text/plain": [
              "<Figure size 1800x720 with 1 Axes>"
            ]
          },
          "metadata": {
            "tags": []
          }
        }
      ]
    },
    {
      "cell_type": "code",
      "metadata": {
        "id": "rPPhvXrnsyVD",
        "colab_type": "code",
        "outputId": "a4a71719-5df9-4e23-9ae0-bf98a0815a44",
        "colab": {
          "base_uri": "https://localhost:8080/",
          "height": 143
        }
      },
      "source": [
        "labels"
      ],
      "execution_count": 0,
      "outputs": [
        {
          "output_type": "execute_result",
          "data": {
            "text/plain": [
              "array([1, 1, 1, 1, 1, 1, 1, 1, 1, 1, 1, 1, 1, 1, 1, 1, 1, 1, 1, 1, 1, 1,\n",
              "       1, 1, 1, 1, 1, 1, 1, 1, 1, 1, 1, 1, 1, 1, 1, 1, 1, 1, 1, 1, 1, 1,\n",
              "       1, 1, 1, 1, 1, 1, 0, 0, 0, 0, 0, 0, 0, 0, 0, 0, 0, 0, 0, 0, 0, 0,\n",
              "       0, 0, 0, 0, 0, 0, 0, 0, 0, 0, 0, 2, 0, 0, 0, 0, 0, 0, 0, 0, 0, 0,\n",
              "       0, 0, 0, 0, 0, 0, 0, 0, 0, 0, 0, 0, 2, 0, 2, 2, 2, 2, 0, 2, 2, 2,\n",
              "       2, 2, 2, 0, 0, 2, 2, 2, 2, 0, 2, 0, 2, 0, 2, 2, 0, 0, 2, 2, 2, 2,\n",
              "       2, 0, 0, 2, 2, 2, 0, 2, 2, 2, 0, 2, 2, 2, 0, 2, 2, 0])"
            ]
          },
          "metadata": {
            "tags": []
          },
          "execution_count": 16
        }
      ]
    },
    {
      "cell_type": "markdown",
      "metadata": {
        "id": "lRqHqnDEtsYW",
        "colab_type": "text"
      },
      "source": [
        "## 4) 아카데미 데이터 이용한 군집분석\n",
        "     닮은 학원생들끼리 군집 형성 "
      ]
    },
    {
      "cell_type": "code",
      "metadata": {
        "id": "VckdKLC7tz6X",
        "colab_type": "code",
        "cellView": "code",
        "colab": {}
      },
      "source": [
        "\n",
        "import pandas as pd\n",
        "%matplotlib inline\n",
        "import matplotlib.pyplot as plt\n",
        "import numpy as np\n",
        "from sklearn import cluster\n",
        "\n",
        "academy = pd.read_csv('academy.csv')\n",
        "academy.columns = ['num','kor','math','eng','sci','itn']\n",
        "academy = academy.drop('num', axis=1)\n",
        "academy.head()\n",
        "\n",
        "academy_arr = np.array(accademy)\n",
        "academy.columns, academy_arr, academy_arr.shape\n",
        "\n",
        "model = cluster.KMeans(n_clusters=5)\n",
        "model.fit(academy_arr)\n",
        "\n",
        "labels = model.labels_  # 군집 정하기 \n",
        "labels  # 정해진 군집 확인 \n",
        "# 그래프 그리기 \n",
        "ldata = academy_arr[labels == 0]\n",
        "plt.scatter(ldata[:,2], ldata[:,3], c='red', alpha=0.3,s=100, marker=\"o\")\n",
        "ldata = academy_arr[labels == 1]\n",
        "plt.scatter(ldata[:,2], ldata[:,3], c='blue', alpha=0.3,s=100, marker=\"o\")\n",
        "ldata = academy_arr[labels == 2]\n",
        "plt.scatter(ldata[:,2], ldata[:,3], c='yellow', alpha=0.3,s=100, marker=\"o\")\n",
        "ldata = academy_arr[labels == 3]\n",
        "plt.scatter(ldata[:,2], ldata[:,3], c='black', alpha=0.3,s=100, marker=\"o\")\n",
        "ldata = academy_arr[labels == 4]\n",
        "plt.scatter(ldata[:,2], ldata[:,3], c='cyan', alpha=0.3,s=100, marker=\"o\")\n",
        "\n",
        "# 축라벨 설정 \n",
        "plt.xlabel(academy.columns[2],fontsize='large')\n",
        "plt.ylabel(academy.columns[3],fontsize='large')\n",
        "plt.show()"
      ],
      "execution_count": 0,
      "outputs": []
    },
    {
      "cell_type": "code",
      "metadata": {
        "id": "Ie2cp2y8xEZO",
        "colab_type": "code",
        "colab": {}
      },
      "source": [
        "# 덴드로그램 그리기 \n",
        "\n",
        "from scipy.cluster.hierarchy import dendrogram, linkage\n",
        "\n",
        "Z = linkage(academy_arr, 'ward')  # 덴드로그램에 사용하는 Z값\n",
        "\n",
        "plt.figure(figsize=(25,10))\n",
        "plt.title('hierarchical Clustering Dendrogram')\n",
        "plt.xlabel('iris')\n",
        "plt.ylabel('distance')\n",
        "dendrogram(\n",
        "    Z,\n",
        "    leaf_rotation=90.,\n",
        "    leaf_font_size=8.,\n",
        ")\n",
        "plt.show()"
      ],
      "execution_count": 0,
      "outputs": []
    },
    {
      "cell_type": "markdown",
      "metadata": {
        "id": "d8S1SzJDq-rq",
        "colab_type": "text"
      },
      "source": [
        "## 5) ML 회귀분석"
      ]
    },
    {
      "cell_type": "markdown",
      "metadata": {
        "id": "4GWaqtQAsLCY",
        "colab_type": "text"
      },
      "source": [
        "오차를 최소화\n",
        "수학적으로 설명이 가능한 함수 모형을 찾기는 어려움 \n",
        "가장 적합도가 높은 직선 구하기 \n",
        " - 오차 = 모델로 구현한 직선 - 실제값 \n",
        "   (오차함수, 코스트 펑션, 에러 함수)\n",
        "- 신뢰도 F, p-value 유의수준,   계수의 신뢰도인 T값 \n",
        "\n",
        "\n"
      ]
    },
    {
      "cell_type": "code",
      "metadata": {
        "id": "Mzsw43rFwOEI",
        "colab_type": "code",
        "colab": {}
      },
      "source": [
        "import pandas as pd\n",
        "%matplotlib inline\n",
        "import matplotlib.pyplot as plt\n",
        "import numpy as np\n",
        "\n",
        "from sklearn import linear_model\n",
        "\n",
        "# 데이터 읽어옴\n",
        "h_stock = pd.read_csv('H_stock.csv')\n",
        "s_stock = pd.read_csv('S_stock.csv')\n",
        "k_stock = pd.read_csv('K_stock.csv')\n",
        "\n",
        "# 헤더 정보 제거하고 전일 대비 rate 구하기 \n",
        "h_rate = np.array(h_stock.h_rate[1:])\n",
        "s_rate = np.array(s_stock.h_rate[1:])\n",
        "k_rate = np.array(k_stock.h_rate[1:])\n",
        "\n",
        "# 선형회귀모델함수에 넣기 위해 reshape로 차원 조정 \n",
        "h_rate = h_rate.reshape(h_rate.shape[0],1)\n",
        "s_rate = s_rate.reshape(s_rate.shape[0],1)\n",
        "k_rate = k_rate.reshape(k_rate.shape[0],1)\n",
        "\n",
        "plt.scatter(k_rate,h_rate, c='blank', s=30, marker='v',label='train')\n",
        "\n",
        "model = linear_model_LinearRegression()\n",
        "model.fit(k_rate, h_rate)  # 모델훈련 : k_rate가 독립변수, h_rate가 반응 변수\n",
        "\n",
        "plt.plot(k_rate, model_predict(k_rate), linestyle='-',label='h_stock',c='red') #예측\n",
        "\n",
        "print('기울기 : ', model.coef_)  # 절편 중요도보다는 기울기 중요(해당 %만큼 영향도) 금융에서는 베타지수로 표현\n",
        "print('절편', model_intercept_)\n",
        "print('결정계수 : ', model_score(k_rate, h_rate)) # 회귀모델의 설명력 계수\n"
      ],
      "execution_count": 0,
      "outputs": []
    },
    {
      "cell_type": "markdown",
      "metadata": {
        "id": "rEMFZTPJ0sMQ",
        "colab_type": "text"
      },
      "source": [
        "비선선회귀모델을 파이썬으로 나타내기 \n"
      ]
    },
    {
      "cell_type": "code",
      "metadata": {
        "id": "3howQP1s0qv6",
        "colab_type": "code",
        "outputId": "c6a5cce3-a91e-48f8-dcc8-26feb9ebe1fb",
        "colab": {
          "base_uri": "https://localhost:8080/",
          "height": 244
        }
      },
      "source": [
        "from sklearn import linear_model \n",
        "%matplotlib inline\n",
        "import matplotlib.pyplot as plt\n",
        "import numpy as np\n",
        "\n",
        "#2차 회귀모형을 만들기 위한 가짜 데이터 random 생성(표준정규분포)\n",
        "x_train = np.arrange(-10, +10, 1/50.).reshape(-1,1)\n",
        "x_train.shape\n",
        "x_train2 = x_train**2 + np.random.randn(len(x_train),1) *30\n",
        "\n",
        "plt.scatter(x_train, x_train2, c='black', x=30, marker='x', label='sample')\n",
        "\n",
        "#회귀 모형에 넣기 위한 트레이닝 데이터셋 만들기 \n",
        "X2_TRAIN = np.c_[x_train**2, x_train]  # 2개를 합친값 concatenate\n",
        "\n",
        "#모델 생성하고 훈련\n",
        "model = linear_model.LinearRegression()\n",
        "model.fit(X2_TRAIN, x_train2)  # 독립변수와 반응변수\n",
        "\n",
        "#예측\n",
        "plt.plot(x_train, model.predict(X2_TRAIN),linestyle='--',label='sample',c='red')\n",
        "\n",
        "print(model.coef_)\n",
        "print(model.intercept_)\n",
        "print(model.score(X2_TRAIN, x_train2))"
      ],
      "execution_count": 0,
      "outputs": [
        {
          "output_type": "error",
          "ename": "AttributeError",
          "evalue": "ignored",
          "traceback": [
            "\u001b[0;31m---------------------------------------------------------------------------\u001b[0m",
            "\u001b[0;31mAttributeError\u001b[0m                            Traceback (most recent call last)",
            "\u001b[0;32m<ipython-input-12-5c78f2dbc13a>\u001b[0m in \u001b[0;36m<module>\u001b[0;34m()\u001b[0m\n\u001b[1;32m      5\u001b[0m \u001b[0;34m\u001b[0m\u001b[0m\n\u001b[1;32m      6\u001b[0m \u001b[0;31m#2차 회귀모형을 만들기 위한 가짜 데이터 random 생성(표준정규분포)\u001b[0m\u001b[0;34m\u001b[0m\u001b[0;34m\u001b[0m\u001b[0;34m\u001b[0m\u001b[0m\n\u001b[0;32m----> 7\u001b[0;31m \u001b[0mx_train\u001b[0m \u001b[0;34m=\u001b[0m \u001b[0mnp\u001b[0m\u001b[0;34m.\u001b[0m\u001b[0marrange\u001b[0m\u001b[0;34m(\u001b[0m\u001b[0;34m-\u001b[0m\u001b[0;36m10\u001b[0m\u001b[0;34m,\u001b[0m \u001b[0;34m+\u001b[0m\u001b[0;36m10\u001b[0m\u001b[0;34m,\u001b[0m \u001b[0;36m1\u001b[0m\u001b[0;34m/\u001b[0m\u001b[0;36m50.\u001b[0m\u001b[0;34m)\u001b[0m\u001b[0;34m.\u001b[0m\u001b[0mreshape\u001b[0m\u001b[0;34m(\u001b[0m\u001b[0;34m-\u001b[0m\u001b[0;36m1\u001b[0m\u001b[0;34m,\u001b[0m\u001b[0;36m1\u001b[0m\u001b[0;34m)\u001b[0m\u001b[0;34m\u001b[0m\u001b[0;34m\u001b[0m\u001b[0m\n\u001b[0m\u001b[1;32m      8\u001b[0m \u001b[0mx_train\u001b[0m\u001b[0;34m.\u001b[0m\u001b[0mshape\u001b[0m\u001b[0;34m\u001b[0m\u001b[0;34m\u001b[0m\u001b[0m\n\u001b[1;32m      9\u001b[0m \u001b[0mx_train2\u001b[0m \u001b[0;34m=\u001b[0m \u001b[0mx_train\u001b[0m\u001b[0;34m**\u001b[0m\u001b[0;36m2\u001b[0m \u001b[0;34m+\u001b[0m \u001b[0mnp\u001b[0m\u001b[0;34m.\u001b[0m\u001b[0mrandom\u001b[0m\u001b[0;34m.\u001b[0m\u001b[0mrandn\u001b[0m\u001b[0;34m(\u001b[0m\u001b[0mlen\u001b[0m\u001b[0;34m(\u001b[0m\u001b[0mx_train\u001b[0m\u001b[0;34m)\u001b[0m\u001b[0;34m,\u001b[0m\u001b[0;36m1\u001b[0m\u001b[0;34m)\u001b[0m \u001b[0;34m*\u001b[0m\u001b[0;36m30\u001b[0m\u001b[0;34m\u001b[0m\u001b[0;34m\u001b[0m\u001b[0m\n",
            "\u001b[0;31mAttributeError\u001b[0m: module 'numpy' has no attribute 'arrange'"
          ]
        }
      ]
    },
    {
      "cell_type": "markdown",
      "metadata": {
        "id": "lj_pliVuoxu1",
        "colab_type": "text"
      },
      "source": [
        "## 6) ML 의사결정트리\n",
        "\n"
      ]
    },
    {
      "cell_type": "code",
      "metadata": {
        "id": "A_1bzNhkOH06",
        "colab_type": "code",
        "outputId": "0daf45b2-3f6d-4e65-d113-2d5dba27d3c9",
        "colab": {
          "base_uri": "https://localhost:8080/",
          "height": 240
        }
      },
      "source": [
        "# 데이터 적재-->모델 만들기 --> 예측 --> 평가 \n",
        "\n",
        "# _*_ coding: utf-8 _*_\n",
        "\n",
        "import matplotlib.pyplot as plt\n",
        "import random \n",
        "from sklearn import datasets, tree   # 모델 : 의사결정트리\n",
        "from sklearn.metrics import accuracy_score, confusion_matrix   # 평가\n",
        "from sklearn.metrics import precision_score, recall_score, f1_score\n",
        "\n",
        "# 데이터 읽어오기 \n",
        "digits = datasets.load_digits()\n",
        "\n",
        "# 이미지를 표시함\n",
        "for label, img in zip(digits.target[:10], digits.images[:10]):\n",
        "    plt.subplot(2, 5, label + 1)\n",
        "    plt.imshow(img, cmap = plt.cm.gray_r, interpolation = 'nearest')\n",
        "    plt.title('Digit: {0}'.format(label))\n",
        "plt.show()"
      ],
      "execution_count": 0,
      "outputs": [
        {
          "output_type": "display_data",
          "data": {
            "image/png": "[encoded data removed]",
            "text/plain": [
              "<Figure size 432x288 with 10 Axes>"
            ]
          },
          "metadata": {
            "tags": []
          }
        }
      ]
    },
    {
      "cell_type": "code",
      "metadata": {
        "id": "gcFIgwh_P80K",
        "colab_type": "code",
        "outputId": "98a09980-4139-4dce-d8b7-f53b8f5a9284",
        "colab": {
          "base_uri": "https://localhost:8080/",
          "height": 1000
        }
      },
      "source": [
        "digits"
      ],
      "execution_count": 0,
      "outputs": [
        {
          "output_type": "execute_result",
          "data": {
            "text/plain": [
              "{'DESCR': \".. _digits_dataset:\\n\\nOptical recognition of handwritten digits dataset\\n--------------------------------------------------\\n\\n**Data Set Characteristics:**\\n\\n    :Number of Instances: 5620\\n    :Number of Attributes: 64\\n    :Attribute Information: 8x8 image of integer pixels in the range 0..16.\\n    :Missing Attribute Values: None\\n    :Creator: E. Alpaydin (alpaydin '@' boun.edu.tr)\\n    :Date: July; 1998\\n\\nThis is a copy of the test set of the UCI ML hand-written digits datasets\\nhttps://archive.ics.uci.edu/ml/datasets/Optical+Recognition+of+Handwritten+Digits\\n\\nThe data set contains images of hand-written digits: 10 classes where\\neach class refers to a digit.\\n\\nPreprocessing programs made available by NIST were used to extract\\nnormalized bitmaps of handwritten digits from a preprinted form. From a\\ntotal of 43 people, 30 contributed to the training set and different 13\\nto the test set. 32x32 bitmaps are divided into nonoverlapping blocks of\\n4x4 and the number of on pixels are counted in each block. This generates\\nan input matrix of 8x8 where each element is an integer in the range\\n0..16. This reduces dimensionality and gives invariance to small\\ndistortions.\\n\\nFor info on NIST preprocessing routines, see M. D. Garris, J. L. Blue, G.\\nT. Candela, D. L. Dimmick, J. Geist, P. J. Grother, S. A. Janet, and C.\\nL. Wilson, NIST Form-Based Handprint Recognition System, NISTIR 5469,\\n1994.\\n\\n.. topic:: References\\n\\n  - C. Kaynak (1995) Methods of Combining Multiple Classifiers and Their\\n    Applications to Handwritten Digit Recognition, MSc Thesis, Institute of\\n    Graduate Studies in Science and Engineering, Bogazici University.\\n  - E. Alpaydin, C. Kaynak (1998) Cascading Classifiers, Kybernetika.\\n  - Ken Tang and Ponnuthurai N. Suganthan and Xi Yao and A. Kai Qin.\\n    Linear dimensionalityreduction using relevance weighted LDA. School of\\n    Electrical and Electronic Engineering Nanyang Technological University.\\n    2005.\\n  - Claudio Gentile. A New Approximate Maximal Margin Classification\\n    Algorithm. NIPS. 2000.\",\n",
              " 'data': array([[ 0.,  0.,  5., ...,  0.,  0.,  0.],\n",
              "        [ 0.,  0.,  0., ..., 10.,  0.,  0.],\n",
              "        [ 0.,  0.,  0., ..., 16.,  9.,  0.],\n",
              "        ...,\n",
              "        [ 0.,  0.,  1., ...,  6.,  0.,  0.],\n",
              "        [ 0.,  0.,  2., ..., 12.,  0.,  0.],\n",
              "        [ 0.,  0., 10., ..., 12.,  1.,  0.]]),\n",
              " 'images': array([[[ 0.,  0.,  5., ...,  1.,  0.,  0.],\n",
              "         [ 0.,  0., 13., ..., 15.,  5.,  0.],\n",
              "         [ 0.,  3., 15., ..., 11.,  8.,  0.],\n",
              "         ...,\n",
              "         [ 0.,  4., 11., ..., 12.,  7.,  0.],\n",
              "         [ 0.,  2., 14., ..., 12.,  0.,  0.],\n",
              "         [ 0.,  0.,  6., ...,  0.,  0.,  0.]],\n",
              " \n",
              "        [[ 0.,  0.,  0., ...,  5.,  0.,  0.],\n",
              "         [ 0.,  0.,  0., ...,  9.,  0.,  0.],\n",
              "         [ 0.,  0.,  3., ...,  6.,  0.,  0.],\n",
              "         ...,\n",
              "         [ 0.,  0.,  1., ...,  6.,  0.,  0.],\n",
              "         [ 0.,  0.,  1., ...,  6.,  0.,  0.],\n",
              "         [ 0.,  0.,  0., ..., 10.,  0.,  0.]],\n",
              " \n",
              "        [[ 0.,  0.,  0., ..., 12.,  0.,  0.],\n",
              "         [ 0.,  0.,  3., ..., 14.,  0.,  0.],\n",
              "         [ 0.,  0.,  8., ..., 16.,  0.,  0.],\n",
              "         ...,\n",
              "         [ 0.,  9., 16., ...,  0.,  0.,  0.],\n",
              "         [ 0.,  3., 13., ..., 11.,  5.,  0.],\n",
              "         [ 0.,  0.,  0., ..., 16.,  9.,  0.]],\n",
              " \n",
              "        ...,\n",
              " \n",
              "        [[ 0.,  0.,  1., ...,  1.,  0.,  0.],\n",
              "         [ 0.,  0., 13., ...,  2.,  1.,  0.],\n",
              "         [ 0.,  0., 16., ..., 16.,  5.,  0.],\n",
              "         ...,\n",
              "         [ 0.,  0., 16., ..., 15.,  0.,  0.],\n",
              "         [ 0.,  0., 15., ..., 16.,  0.,  0.],\n",
              "         [ 0.,  0.,  2., ...,  6.,  0.,  0.]],\n",
              " \n",
              "        [[ 0.,  0.,  2., ...,  0.,  0.,  0.],\n",
              "         [ 0.,  0., 14., ..., 15.,  1.,  0.],\n",
              "         [ 0.,  4., 16., ..., 16.,  7.,  0.],\n",
              "         ...,\n",
              "         [ 0.,  0.,  0., ..., 16.,  2.,  0.],\n",
              "         [ 0.,  0.,  4., ..., 16.,  2.,  0.],\n",
              "         [ 0.,  0.,  5., ..., 12.,  0.,  0.]],\n",
              " \n",
              "        [[ 0.,  0., 10., ...,  1.,  0.,  0.],\n",
              "         [ 0.,  2., 16., ...,  1.,  0.,  0.],\n",
              "         [ 0.,  0., 15., ..., 15.,  0.,  0.],\n",
              "         ...,\n",
              "         [ 0.,  4., 16., ..., 16.,  6.,  0.],\n",
              "         [ 0.,  8., 16., ..., 16.,  8.,  0.],\n",
              "         [ 0.,  1.,  8., ..., 12.,  1.,  0.]]]),\n",
              " 'target': array([0, 1, 2, ..., 8, 9, 8]),\n",
              " 'target_names': array([0, 1, 2, 3, 4, 5, 6, 7, 8, 9])}"
            ]
          },
          "metadata": {
            "tags": []
          },
          "execution_count": 3
        }
      ]
    },
    {
      "cell_type": "code",
      "metadata": {
        "id": "GD-osWzVi5RM",
        "colab_type": "code",
        "outputId": "1d3fe948-831d-4285-bf8f-d21010f4bf48",
        "colab": {
          "base_uri": "https://localhost:8080/",
          "height": 161
        }
      },
      "source": [
        "label, img, img.shape  # 9라는 라벨에 대한 이미지는 8곱하기8 어레이 수치로 표현 "
      ],
      "execution_count": 0,
      "outputs": [
        {
          "output_type": "execute_result",
          "data": {
            "text/plain": [
              "(9, array([[ 0.,  0., 11., 12.,  0.,  0.,  0.,  0.],\n",
              "        [ 0.,  2., 16., 16., 16., 13.,  0.,  0.],\n",
              "        [ 0.,  3., 16., 12., 10., 14.,  0.,  0.],\n",
              "        [ 0.,  1., 16.,  1., 12., 15.,  0.,  0.],\n",
              "        [ 0.,  0., 13., 16.,  9., 15.,  2.,  0.],\n",
              "        [ 0.,  0.,  0.,  3.,  0.,  9., 11.,  0.],\n",
              "        [ 0.,  0.,  0.,  0.,  9., 15.,  4.,  0.],\n",
              "        [ 0.,  0.,  9., 12., 13.,  3.,  0.,  0.]]), (8, 8))"
            ]
          },
          "metadata": {
            "tags": []
          },
          "execution_count": 5
        }
      ]
    },
    {
      "cell_type": "code",
      "metadata": {
        "id": "R4r7RNXcjSdv",
        "colab_type": "code",
        "outputId": "e2ca23b5-0040-4387-d7ec-d094887131fe",
        "colab": {
          "base_uri": "https://localhost:8080/",
          "height": 251
        }
      },
      "source": [
        "# 이미지를 넣어서 특정 라벨로 분류하는 알고리즘 임 \n",
        "  # 이미지 데이터와 목표 데이터를 셋팅 \n",
        "images = digits.images\n",
        "labels = digits.target\n",
        "# 차원을 하나 감소 : 함수에 넣기 위해서 차원을 줄여야 함 \n",
        "images = images.reshape(images.shape[0], -1) # 8X8행렬이 64개 벡터로 만들어서 입력값으로 사용 \n",
        "\n",
        "# 모델을 만드는 과정 : 의사결정트리를 생성\n",
        "n_samples = len(images)  # 전체 데이터가 sample임 \n",
        "train_size = int(n_samples * 2/3)  # 2/3 만 훈련데이터\n",
        "classifier = tree.DecisionTreeClassifier(max_depth=3) #의사결정 트리 모델\n",
        "classifier.fit(images[:train_size], labels[:train_size]) # 훈련 : train size까지\n",
        "\n",
        "# 평가하기 : 의사결정트리의 성능 확인, 훈련데이터가 아닌 데이터로 예측\n",
        "expected = labels[train_size:]  # 실제값은 expected에 저장 \n",
        "predicted = classifier.predict(images[train_size:]) # 테스트 데이터를 넣어서 예측\n",
        "\n",
        "print('Accuracy:\\n',\n",
        "      accuracy_score(expected, predicted))  # 간단히 볼 수 있는 지표\n",
        "print('Confusion matrix:\\n',\n",
        "      confusion_matrix(expected, predicted)) # 혼돈행렬 : 실제(세로)와 예측값(가로))\n",
        "                                            # 대각선에 모여 있어야 정확한 예측\n"
      ],
      "execution_count": 0,
      "outputs": [
        {
          "output_type": "stream",
          "text": [
            "Accuracy:\n",
            " 0.44908180300500833\n",
            "Confusion matrix:\n",
            " [[57  0  1  0  1  0  0  0  0  0]\n",
            " [ 0  0 25 16  6  0  0 15  0  0]\n",
            " [ 1  0 49  6  0  1  0  3  0  0]\n",
            " [ 0  0 10 46  0  0  0  5  0  1]\n",
            " [ 4  0 27  0 30  0  0  1  0  0]\n",
            " [ 0  0  2 29 20  5  0  3  0  0]\n",
            " [ 0  0 55  5  0  1  0  0  0  0]\n",
            " [ 0  0  0  0  6  0  0 55  0  0]\n",
            " [ 0  0 33  6  2  1  0 13  0  0]\n",
            " [ 2  0  1 21  7  0  0  0  0 27]]\n"
          ],
          "name": "stdout"
        }
      ]
    },
    {
      "cell_type": "code",
      "metadata": {
        "id": "B3u4-u3Sp1h_",
        "colab_type": "code",
        "outputId": "df6153d2-aad8-483e-ddd7-5650bed7636f",
        "colab": {
          "base_uri": "https://localhost:8080/",
          "height": 521
        }
      },
      "source": [
        "expected"
      ],
      "execution_count": 0,
      "outputs": [
        {
          "output_type": "execute_result",
          "data": {
            "text/plain": [
              "array([4, 1, 7, 7, 3, 5, 1, 0, 0, 2, 2, 7, 8, 2, 0, 1, 2, 6, 3, 3, 7, 3,\n",
              "       3, 4, 6, 6, 6, 4, 9, 1, 5, 0, 9, 5, 2, 8, 2, 0, 0, 1, 7, 6, 3, 2,\n",
              "       1, 7, 4, 6, 3, 1, 3, 9, 1, 7, 6, 8, 4, 3, 1, 4, 0, 5, 3, 6, 9, 6,\n",
              "       1, 7, 5, 4, 4, 7, 2, 8, 2, 2, 5, 7, 9, 5, 4, 8, 8, 4, 9, 0, 8, 9,\n",
              "       8, 0, 1, 2, 3, 4, 5, 6, 7, 8, 9, 0, 1, 2, 3, 4, 5, 6, 7, 8, 9, 0,\n",
              "       1, 2, 3, 4, 5, 6, 7, 8, 9, 0, 9, 5, 5, 6, 5, 0, 9, 8, 9, 8, 4, 1,\n",
              "       7, 7, 3, 5, 1, 0, 0, 2, 2, 7, 8, 2, 0, 1, 2, 6, 3, 3, 7, 3, 3, 4,\n",
              "       6, 6, 6, 4, 9, 1, 5, 0, 9, 5, 2, 8, 2, 0, 0, 1, 7, 6, 3, 2, 1, 7,\n",
              "       4, 6, 3, 1, 3, 9, 1, 7, 6, 8, 4, 3, 1, 4, 0, 5, 3, 6, 9, 6, 1, 7,\n",
              "       5, 4, 4, 7, 2, 8, 2, 2, 5, 7, 9, 5, 4, 8, 8, 4, 9, 0, 8, 0, 1, 2,\n",
              "       3, 4, 5, 6, 7, 8, 9, 0, 1, 2, 3, 4, 5, 6, 7, 8, 9, 0, 1, 2, 3, 4,\n",
              "       5, 6, 7, 8, 9, 0, 9, 5, 5, 6, 5, 0, 9, 8, 9, 8, 4, 1, 7, 7, 3, 5,\n",
              "       1, 0, 0, 2, 2, 7, 8, 2, 0, 1, 2, 6, 3, 3, 7, 3, 3, 4, 6, 6, 6, 4,\n",
              "       9, 1, 5, 0, 9, 5, 2, 8, 2, 0, 0, 1, 7, 6, 3, 2, 1, 7, 4, 6, 3, 1,\n",
              "       3, 9, 1, 7, 6, 8, 4, 3, 1, 4, 0, 5, 3, 6, 9, 6, 1, 7, 5, 4, 4, 7,\n",
              "       2, 8, 2, 2, 5, 7, 9, 5, 4, 8, 8, 4, 9, 0, 8, 9, 8, 0, 1, 2, 3, 4,\n",
              "       5, 6, 7, 8, 9, 0, 1, 2, 3, 4, 5, 6, 9, 0, 1, 2, 3, 4, 5, 6, 7, 8,\n",
              "       9, 0, 9, 5, 5, 6, 5, 0, 9, 8, 9, 8, 4, 1, 7, 7, 3, 5, 1, 0, 0, 2,\n",
              "       2, 7, 8, 2, 0, 1, 2, 6, 3, 3, 7, 3, 3, 4, 6, 6, 6, 4, 9, 1, 5, 0,\n",
              "       9, 5, 2, 8, 0, 1, 7, 6, 3, 2, 1, 7, 4, 6, 3, 1, 3, 9, 1, 7, 6, 8,\n",
              "       4, 3, 1, 4, 0, 5, 3, 6, 9, 6, 1, 7, 5, 4, 4, 7, 2, 2, 5, 7, 9, 5,\n",
              "       4, 4, 9, 0, 8, 9, 8, 0, 1, 2, 3, 4, 5, 6, 7, 8, 9, 0, 1, 2, 3, 4,\n",
              "       5, 6, 7, 8, 9, 0, 1, 2, 3, 4, 5, 6, 7, 8, 9, 0, 9, 5, 5, 6, 5, 0,\n",
              "       9, 8, 9, 8, 4, 1, 7, 7, 3, 5, 1, 0, 0, 2, 2, 7, 8, 2, 0, 1, 2, 6,\n",
              "       3, 3, 7, 3, 3, 4, 6, 6, 6, 4, 9, 1, 5, 0, 9, 5, 2, 8, 2, 0, 0, 1,\n",
              "       7, 6, 3, 2, 1, 7, 4, 6, 3, 1, 3, 9, 1, 7, 6, 8, 4, 3, 1, 4, 0, 5,\n",
              "       3, 6, 9, 6, 1, 7, 5, 4, 4, 7, 2, 8, 2, 2, 5, 7, 9, 5, 4, 8, 8, 4,\n",
              "       9, 0, 8, 9, 8])"
            ]
          },
          "metadata": {
            "tags": []
          },
          "execution_count": 8
        }
      ]
    },
    {
      "cell_type": "code",
      "metadata": {
        "id": "UCW94c-Cp3-T",
        "colab_type": "code",
        "outputId": "f888b681-d2f0-4ca9-d21e-5a45b1c532ae",
        "colab": {
          "base_uri": "https://localhost:8080/",
          "height": 521
        }
      },
      "source": [
        "predicted"
      ],
      "execution_count": 0,
      "outputs": [
        {
          "output_type": "execute_result",
          "data": {
            "text/plain": [
              "array([2, 2, 7, 7, 7, 2, 2, 0, 0, 2, 2, 7, 7, 2, 0, 7, 2, 2, 9, 3, 4, 3,\n",
              "       3, 0, 2, 2, 2, 4, 3, 2, 7, 0, 3, 3, 2, 7, 2, 0, 0, 7, 7, 2, 3, 2,\n",
              "       7, 4, 2, 2, 3, 7, 3, 9, 2, 7, 2, 7, 2, 3, 4, 4, 0, 7, 3, 2, 3, 2,\n",
              "       4, 4, 5, 2, 4, 7, 2, 2, 2, 2, 5, 7, 3, 4, 2, 7, 2, 4, 9, 0, 7, 3,\n",
              "       2, 0, 3, 2, 3, 2, 3, 2, 7, 2, 3, 0, 2, 3, 3, 0, 3, 2, 7, 2, 9, 0,\n",
              "       3, 2, 3, 0, 3, 2, 7, 7, 9, 0, 9, 3, 3, 2, 4, 2, 3, 7, 3, 2, 2, 2,\n",
              "       7, 7, 3, 3, 2, 0, 0, 2, 3, 7, 2, 3, 0, 3, 3, 2, 3, 3, 4, 2, 3, 0,\n",
              "       2, 2, 2, 4, 9, 2, 3, 0, 9, 2, 2, 2, 3, 0, 0, 2, 7, 2, 3, 2, 2, 7,\n",
              "       2, 2, 3, 7, 3, 2, 2, 7, 2, 7, 2, 3, 7, 4, 0, 4, 3, 5, 9, 2, 7, 7,\n",
              "       4, 2, 2, 7, 3, 2, 2, 2, 3, 7, 3, 4, 2, 7, 4, 2, 0, 0, 7, 0, 3, 2,\n",
              "       3, 4, 3, 3, 7, 2, 9, 0, 3, 2, 3, 4, 3, 3, 7, 2, 9, 0, 3, 2, 3, 4,\n",
              "       3, 2, 7, 2, 9, 0, 9, 3, 3, 2, 3, 0, 9, 2, 9, 2, 2, 3, 7, 4, 3, 3,\n",
              "       3, 0, 0, 2, 2, 7, 3, 2, 0, 3, 2, 3, 3, 3, 7, 3, 3, 4, 2, 2, 2, 4,\n",
              "       9, 3, 3, 0, 9, 3, 2, 2, 2, 0, 0, 3, 7, 3, 3, 2, 3, 7, 4, 2, 3, 3,\n",
              "       3, 9, 3, 7, 3, 2, 4, 3, 3, 4, 0, 5, 3, 2, 9, 2, 3, 4, 5, 2, 4, 7,\n",
              "       2, 2, 2, 2, 3, 7, 9, 3, 4, 2, 2, 2, 0, 0, 2, 9, 2, 0, 4, 2, 3, 4,\n",
              "       4, 2, 7, 2, 4, 0, 4, 2, 3, 4, 4, 2, 9, 0, 4, 7, 3, 4, 4, 2, 7, 5,\n",
              "       9, 4, 3, 4, 4, 2, 4, 0, 4, 4, 4, 3, 4, 7, 7, 7, 2, 5, 7, 0, 0, 0,\n",
              "       2, 7, 2, 2, 0, 4, 2, 2, 7, 7, 7, 7, 2, 4, 2, 2, 2, 7, 4, 7, 4, 0,\n",
              "       9, 3, 2, 2, 0, 7, 7, 2, 3, 2, 7, 7, 4, 2, 3, 2, 3, 4, 2, 7, 2, 3,\n",
              "       4, 3, 7, 4, 0, 4, 3, 2, 9, 2, 7, 7, 7, 2, 4, 7, 2, 2, 4, 7, 3, 4,\n",
              "       4, 4, 4, 0, 7, 4, 7, 0, 2, 2, 3, 2, 3, 2, 7, 2, 3, 0, 2, 2, 2, 4,\n",
              "       3, 2, 7, 7, 3, 0, 2, 2, 2, 2, 4, 2, 7, 3, 9, 0, 3, 4, 3, 2, 4, 0,\n",
              "       9, 2, 9, 2, 4, 2, 7, 7, 7, 4, 2, 0, 0, 5, 2, 7, 2, 2, 0, 2, 2, 2,\n",
              "       2, 2, 7, 3, 2, 4, 2, 2, 2, 2, 3, 2, 4, 0, 3, 3, 7, 3, 7, 0, 0, 2,\n",
              "       7, 2, 2, 2, 7, 7, 2, 2, 3, 2, 2, 3, 2, 7, 2, 2, 2, 3, 2, 2, 0, 3,\n",
              "       3, 2, 3, 2, 2, 7, 3, 2, 2, 7, 2, 3, 2, 2, 3, 7, 3, 3, 2, 2, 2, 2,\n",
              "       3, 0, 2, 3, 2])"
            ]
          },
          "metadata": {
            "tags": []
          },
          "execution_count": 9
        }
      ]
    },
    {
      "cell_type": "markdown",
      "metadata": {
        "id": "t12XgEopZ_jW",
        "colab_type": "text"
      },
      "source": [
        "# Pandas\n",
        "1. DataFrame : 행열 구조, 관계형 데이터 테이블\n",
        "2. Series : 하나의 열\n"
      ]
    },
    {
      "cell_type": "markdown",
      "metadata": {
        "id": "Gx3nfaweaYD9",
        "colab_type": "text"
      },
      "source": [
        "## 1) DataFrame\n",
        "\n",
        "\n",
        "\n",
        "*   DataFrame으로 CSV 가져오기  \n",
        "\n",
        "\n",
        "\n"
      ]
    },
    {
      "cell_type": "code",
      "metadata": {
        "id": "v8m9NdZwavnW",
        "colab_type": "code",
        "outputId": "c177e907-3dff-47b5-c855-d73e377b657a",
        "colab": {
          "base_uri": "https://localhost:8080/",
          "height": 297
        }
      },
      "source": [
        "import pandas as pd\n",
        "california_housing_dataframe = pd.read_csv(\"https://download.mlcc.google.com/mledu-datasets/california_housing_train.csv\", sep=\",\")\n",
        "california_housing_dataframe.describe()"
      ],
      "execution_count": 0,
      "outputs": [
        {
          "output_type": "execute_result",
          "data": {
            "text/html": [
              "<div>\n",
              "<style scoped>\n",
              "    .dataframe tbody tr th:only-of-type {\n",
              "        vertical-align: middle;\n",
              "    }\n",
              "\n",
              "    .dataframe tbody tr th {\n",
              "        vertical-align: top;\n",
              "    }\n",
              "\n",
              "    .dataframe thead th {\n",
              "        text-align: right;\n",
              "    }\n",
              "</style>\n",
              "<table border=\"1\" class=\"dataframe\">\n",
              "  <thead>\n",
              "    <tr style=\"text-align: right;\">\n",
              "      <th></th>\n",
              "      <th>longitude</th>\n",
              "      <th>latitude</th>\n",
              "      <th>housing_median_age</th>\n",
              "      <th>total_rooms</th>\n",
              "      <th>total_bedrooms</th>\n",
              "      <th>population</th>\n",
              "      <th>households</th>\n",
              "      <th>median_income</th>\n",
              "      <th>median_house_value</th>\n",
              "    </tr>\n",
              "  </thead>\n",
              "  <tbody>\n",
              "    <tr>\n",
              "      <th>count</th>\n",
              "      <td>17000.000000</td>\n",
              "      <td>17000.000000</td>\n",
              "      <td>17000.000000</td>\n",
              "      <td>17000.000000</td>\n",
              "      <td>17000.000000</td>\n",
              "      <td>17000.000000</td>\n",
              "      <td>17000.000000</td>\n",
              "      <td>17000.000000</td>\n",
              "      <td>17000.000000</td>\n",
              "    </tr>\n",
              "    <tr>\n",
              "      <th>mean</th>\n",
              "      <td>-119.562108</td>\n",
              "      <td>35.625225</td>\n",
              "      <td>28.589353</td>\n",
              "      <td>2643.664412</td>\n",
              "      <td>539.410824</td>\n",
              "      <td>1429.573941</td>\n",
              "      <td>501.221941</td>\n",
              "      <td>3.883578</td>\n",
              "      <td>207300.912353</td>\n",
              "    </tr>\n",
              "    <tr>\n",
              "      <th>std</th>\n",
              "      <td>2.005166</td>\n",
              "      <td>2.137340</td>\n",
              "      <td>12.586937</td>\n",
              "      <td>2179.947071</td>\n",
              "      <td>421.499452</td>\n",
              "      <td>1147.852959</td>\n",
              "      <td>384.520841</td>\n",
              "      <td>1.908157</td>\n",
              "      <td>115983.764387</td>\n",
              "    </tr>\n",
              "    <tr>\n",
              "      <th>min</th>\n",
              "      <td>-124.350000</td>\n",
              "      <td>32.540000</td>\n",
              "      <td>1.000000</td>\n",
              "      <td>2.000000</td>\n",
              "      <td>1.000000</td>\n",
              "      <td>3.000000</td>\n",
              "      <td>1.000000</td>\n",
              "      <td>0.499900</td>\n",
              "      <td>14999.000000</td>\n",
              "    </tr>\n",
              "    <tr>\n",
              "      <th>25%</th>\n",
              "      <td>-121.790000</td>\n",
              "      <td>33.930000</td>\n",
              "      <td>18.000000</td>\n",
              "      <td>1462.000000</td>\n",
              "      <td>297.000000</td>\n",
              "      <td>790.000000</td>\n",
              "      <td>282.000000</td>\n",
              "      <td>2.566375</td>\n",
              "      <td>119400.000000</td>\n",
              "    </tr>\n",
              "    <tr>\n",
              "      <th>50%</th>\n",
              "      <td>-118.490000</td>\n",
              "      <td>34.250000</td>\n",
              "      <td>29.000000</td>\n",
              "      <td>2127.000000</td>\n",
              "      <td>434.000000</td>\n",
              "      <td>1167.000000</td>\n",
              "      <td>409.000000</td>\n",
              "      <td>3.544600</td>\n",
              "      <td>180400.000000</td>\n",
              "    </tr>\n",
              "    <tr>\n",
              "      <th>75%</th>\n",
              "      <td>-118.000000</td>\n",
              "      <td>37.720000</td>\n",
              "      <td>37.000000</td>\n",
              "      <td>3151.250000</td>\n",
              "      <td>648.250000</td>\n",
              "      <td>1721.000000</td>\n",
              "      <td>605.250000</td>\n",
              "      <td>4.767000</td>\n",
              "      <td>265000.000000</td>\n",
              "    </tr>\n",
              "    <tr>\n",
              "      <th>max</th>\n",
              "      <td>-114.310000</td>\n",
              "      <td>41.950000</td>\n",
              "      <td>52.000000</td>\n",
              "      <td>37937.000000</td>\n",
              "      <td>6445.000000</td>\n",
              "      <td>35682.000000</td>\n",
              "      <td>6082.000000</td>\n",
              "      <td>15.000100</td>\n",
              "      <td>500001.000000</td>\n",
              "    </tr>\n",
              "  </tbody>\n",
              "</table>\n",
              "</div>"
            ],
            "text/plain": [
              "          longitude      latitude  ...  median_income  median_house_value\n",
              "count  17000.000000  17000.000000  ...   17000.000000        17000.000000\n",
              "mean    -119.562108     35.625225  ...       3.883578       207300.912353\n",
              "std        2.005166      2.137340  ...       1.908157       115983.764387\n",
              "min     -124.350000     32.540000  ...       0.499900        14999.000000\n",
              "25%     -121.790000     33.930000  ...       2.566375       119400.000000\n",
              "50%     -118.490000     34.250000  ...       3.544600       180400.000000\n",
              "75%     -118.000000     37.720000  ...       4.767000       265000.000000\n",
              "max     -114.310000     41.950000  ...      15.000100       500001.000000\n",
              "\n",
              "[8 rows x 9 columns]"
            ]
          },
          "metadata": {
            "tags": []
          },
          "execution_count": 4
        }
      ]
    },
    {
      "cell_type": "markdown",
      "metadata": {
        "id": "Mgvd1qb7bag5",
        "colab_type": "text"
      },
      "source": [
        "## 2) Series"
      ]
    },
    {
      "cell_type": "markdown",
      "metadata": {
        "id": "Z9YB1dnIYC5G",
        "colab_type": "text"
      },
      "source": [
        "\n",
        "\n",
        "---\n",
        "\n",
        "\n",
        "## Finace"
      ]
    },
    {
      "cell_type": "code",
      "metadata": {
        "id": "sWdZoz6-Ydrb",
        "colab_type": "code",
        "outputId": "7932feaf-8bfd-4e2d-bd64-cfd77bd5c554",
        "colab": {
          "base_uri": "https://localhost:8080/",
          "height": 529
        }
      },
      "source": [
        "!pip install -U finance-datareader\n",
        "\n",
        "#  차트 설정\n",
        "import matplotlib.pyplot as plt\n",
        "\n",
        "plt.rcParams[\"font.family\"] = 'nanummyeongjo'\n",
        "plt.rcParams[\"figure.figsize\"] = (14,4)\n",
        "plt.rcParams['lines.linewidth'] = 2\n",
        "plt.rcParams[\"axes.grid\"] = True\n",
        "\n",
        "import FinanceDataReader as fdr\n",
        "fdr.__version__\n",
        "\n",
        "# 한국거래소 상장종목 전체\n",
        "df_krx = fdr.StockListing('KRX')\n",
        "df_krx.head()\n",
        "len(df_krx)\n",
        "\n",
        "# S&P 500 종목 전체\n",
        "df_spx = fdr.StockListing('S&P500')\n",
        "df_spx.head()\n",
        "\n",
        "import FinanceDataReader as fdr\n",
        "\n",
        "# 삼성전자, 2017년~현재\n",
        "\n",
        "df = fdr.DataReader('005930', '2017')\n",
        "df['Close'].plot()"
      ],
      "execution_count": 0,
      "outputs": [
        {
          "output_type": "stream",
          "text": [
            "Requirement already up-to-date: finance-datareader in /usr/local/lib/python3.6/dist-packages (0.9.1)\n",
            "Requirement already satisfied, skipping upgrade: requests-file in /usr/local/lib/python3.6/dist-packages (from finance-datareader) (1.4.3)\n",
            "Requirement already satisfied, skipping upgrade: lxml in /usr/local/lib/python3.6/dist-packages (from finance-datareader) (4.2.6)\n",
            "Requirement already satisfied, skipping upgrade: pandas>=0.19.2 in /usr/local/lib/python3.6/dist-packages (from finance-datareader) (0.25.3)\n",
            "Requirement already satisfied, skipping upgrade: requests>=2.3.0 in /usr/local/lib/python3.6/dist-packages (from finance-datareader) (2.21.0)\n",
            "Requirement already satisfied, skipping upgrade: six in /usr/local/lib/python3.6/dist-packages (from requests-file->finance-datareader) (1.12.0)\n",
            "Requirement already satisfied, skipping upgrade: python-dateutil>=2.6.1 in /usr/local/lib/python3.6/dist-packages (from pandas>=0.19.2->finance-datareader) (2.6.1)\n",
            "Requirement already satisfied, skipping upgrade: pytz>=2017.2 in /usr/local/lib/python3.6/dist-packages (from pandas>=0.19.2->finance-datareader) (2018.9)\n",
            "Requirement already satisfied, skipping upgrade: numpy>=1.13.3 in /usr/local/lib/python3.6/dist-packages (from pandas>=0.19.2->finance-datareader) (1.17.5)\n",
            "Requirement already satisfied, skipping upgrade: chardet<3.1.0,>=3.0.2 in /usr/local/lib/python3.6/dist-packages (from requests>=2.3.0->finance-datareader) (3.0.4)\n",
            "Requirement already satisfied, skipping upgrade: certifi>=2017.4.17 in /usr/local/lib/python3.6/dist-packages (from requests>=2.3.0->finance-datareader) (2019.11.28)\n",
            "Requirement already satisfied, skipping upgrade: idna<2.9,>=2.5 in /usr/local/lib/python3.6/dist-packages (from requests>=2.3.0->finance-datareader) (2.8)\n",
            "Requirement already satisfied, skipping upgrade: urllib3<1.25,>=1.21.1 in /usr/local/lib/python3.6/dist-packages (from requests>=2.3.0->finance-datareader) (1.24.3)\n"
          ],
          "name": "stdout"
        },
        {
          "output_type": "execute_result",
          "data": {
            "text/plain": [
              "<matplotlib.axes._subplots.AxesSubplot at 0x7f3a415f7630>"
            ]
          },
          "metadata": {
            "tags": []
          },
          "execution_count": 4
        },
        {
          "output_type": "display_data",
          "data": {
            "image/png": "[encoded data removed]",
            "text/plain": [
              "<Figure size 1008x288 with 1 Axes>"
            ]
          },
          "metadata": {
            "tags": []
          }
        }
      ]
    },
    {
      "cell_type": "markdown",
      "metadata": {
        "id": "undIo6eOX7Pt",
        "colab_type": "text"
      },
      "source": [
        "## 나스닥 지수 : IXIC"
      ]
    },
    {
      "cell_type": "code",
      "metadata": {
        "id": "Sdr1AqwkX88K",
        "colab_type": "code",
        "outputId": "ebf2f674-bda4-4669-bab9-2e5bf246637c",
        "colab": {
          "base_uri": "https://localhost:8080/",
          "height": 551
        }
      },
      "source": [
        "!pip install -U finance-datareader\n",
        "#  차트 설정\n",
        "\n",
        "import matplotlib.pyplot as plt\n",
        "\n",
        "plt.rcParams[\"font.family\"] = 'nanummyeongjo'\n",
        "plt.rcParams[\"figure.figsize\"] = (14,4)\n",
        "plt.rcParams['lines.linewidth'] = 2\n",
        "plt.rcParams[\"axes.grid\"] = True\n",
        "\n",
        "import FinanceDataReader as fdr\n",
        "\n",
        "df = fdr.DataReader('IXIC', '2000')\n",
        "df['Close'].plot()"
      ],
      "execution_count": 0,
      "outputs": [
        {
          "output_type": "stream",
          "text": [
            "Collecting finance-datareader\n",
            "  Downloading https://files.pythonhosted.org/packages/2a/46/4e398780dfb1af6dba7b4ee8b440829b65e94b2726f1d2cc13015d41d172/finance_datareader-0.9.6-py3-none-any.whl\n",
            "Requirement already satisfied, skipping upgrade: lxml in /usr/local/lib/python3.6/dist-packages (from finance-datareader) (4.2.6)\n",
            "Requirement already satisfied, skipping upgrade: pandas>=0.19.2 in /usr/local/lib/python3.6/dist-packages (from finance-datareader) (1.0.3)\n",
            "Requirement already satisfied, skipping upgrade: requests>=2.3.0 in /usr/local/lib/python3.6/dist-packages (from finance-datareader) (2.21.0)\n",
            "Collecting requests-file\n",
            "  Downloading https://files.pythonhosted.org/packages/23/9c/6e63c23c39e53d3df41c77a3d05a49a42c4e1383a6d2a5e3233161b89dbf/requests_file-1.4.3-py2.py3-none-any.whl\n",
            "Requirement already satisfied, skipping upgrade: python-dateutil>=2.6.1 in /usr/local/lib/python3.6/dist-packages (from pandas>=0.19.2->finance-datareader) (2.8.1)\n",
            "Requirement already satisfied, skipping upgrade: pytz>=2017.2 in /usr/local/lib/python3.6/dist-packages (from pandas>=0.19.2->finance-datareader) (2018.9)\n",
            "Requirement already satisfied, skipping upgrade: numpy>=1.13.3 in /usr/local/lib/python3.6/dist-packages (from pandas>=0.19.2->finance-datareader) (1.18.2)\n",
            "Requirement already satisfied, skipping upgrade: idna<2.9,>=2.5 in /usr/local/lib/python3.6/dist-packages (from requests>=2.3.0->finance-datareader) (2.8)\n",
            "Requirement already satisfied, skipping upgrade: urllib3<1.25,>=1.21.1 in /usr/local/lib/python3.6/dist-packages (from requests>=2.3.0->finance-datareader) (1.24.3)\n",
            "Requirement already satisfied, skipping upgrade: certifi>=2017.4.17 in /usr/local/lib/python3.6/dist-packages (from requests>=2.3.0->finance-datareader) (2020.4.5.1)\n",
            "Requirement already satisfied, skipping upgrade: chardet<3.1.0,>=3.0.2 in /usr/local/lib/python3.6/dist-packages (from requests>=2.3.0->finance-datareader) (3.0.4)\n",
            "Requirement already satisfied, skipping upgrade: six in /usr/local/lib/python3.6/dist-packages (from requests-file->finance-datareader) (1.12.0)\n",
            "Installing collected packages: requests-file, finance-datareader\n",
            "Successfully installed finance-datareader-0.9.6 requests-file-1.4.3\n"
          ],
          "name": "stdout"
        },
        {
          "output_type": "execute_result",
          "data": {
            "text/plain": [
              "<matplotlib.axes._subplots.AxesSubplot at 0x7f3dbd95d9b0>"
            ]
          },
          "metadata": {
            "tags": []
          },
          "execution_count": 1
        },
        {
          "output_type": "stream",
          "text": [
            "findfont: Font family ['nanummyeongjo'] not found. Falling back to DejaVu Sans.\n"
          ],
          "name": "stderr"
        },
        {
          "output_type": "display_data",
          "data": {
            "image/png": "[encoded data removed]",
            "text/plain": [
              "<Figure size 1008x288 with 1 Axes>"
            ]
          },
          "metadata": {
            "tags": [],
            "needs_background": "light"
          }
        }
      ]
    },
    {
      "cell_type": "markdown",
      "metadata": {
        "id": "DMERZ4LBA1Q_",
        "colab_type": "text"
      },
      "source": [
        "## Pivot\n"
      ]
    },
    {
      "cell_type": "code",
      "metadata": {
        "id": "jKd1a7EDED6a",
        "colab_type": "code",
        "outputId": "276db4be-543c-4bdd-ca32-af25c034bdf5",
        "colab": {
          "resources": {
            "http://localhost:8080/nbextensions/google.colab/files.js": {
              "data": "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",
              "ok": true,
              "headers": [
                [
                  "content-type",
                  "application/javascript"
                ]
              ],
              "status": 200,
              "status_text": ""
            }
          },
          "base_uri": "https://localhost:8080/",
          "height": 95
        }
      },
      "source": [
        "from google.colab import files\n",
        "uploaded = files.upload()\n",
        "import pandas as pd\n",
        "import io\n",
        "df = pd.read_csv(io.StringIO(uploaded['SupermarketSales.csv'].decode('utf-8')))\n"
      ],
      "execution_count": 0,
      "outputs": [
        {
          "output_type": "display_data",
          "data": {
            "text/html": [
              "\n",
              "     <input type=\"file\" id=\"files-4b7d3a15-81af-4e4e-83cd-7622037eafe2\" name=\"files[]\" multiple disabled />\n",
              "     <output id=\"result-4b7d3a15-81af-4e4e-83cd-7622037eafe2\">\n",
              "      Upload widget is only available when the cell has been executed in the\n",
              "      current browser session. Please rerun this cell to enable.\n",
              "      </output>\n",
              "      <script src=\"/nbextensions/google.colab/files.js\"></script> "
            ],
            "text/plain": [
              "<IPython.core.display.HTML object>"
            ]
          },
          "metadata": {
            "tags": []
          }
        },
        {
          "output_type": "stream",
          "text": [
            "Saving SupermarketSales.csv to SupermarketSales.csv\n"
          ],
          "name": "stdout"
        }
      ]
    },
    {
      "cell_type": "code",
      "metadata": {
        "id": "gE-L_Eltys-s",
        "colab_type": "code",
        "outputId": "4bc5446c-f145-4dc8-a977-81830322259e",
        "colab": {
          "base_uri": "https://localhost:8080/",
          "height": 757
        }
      },
      "source": [
        "table = pd.pivot_table(df, index='제품군', columns='날짜', values='매출액', aggfunc='sum')\n",
        "table"
      ],
      "execution_count": 0,
      "outputs": [
        {
          "output_type": "execute_result",
          "data": {
            "text/html": [
              "<div>\n",
              "<style scoped>\n",
              "    .dataframe tbody tr th:only-of-type {\n",
              "        vertical-align: middle;\n",
              "    }\n",
              "\n",
              "    .dataframe tbody tr th {\n",
              "        vertical-align: top;\n",
              "    }\n",
              "\n",
              "    .dataframe thead th {\n",
              "        text-align: right;\n",
              "    }\n",
              "</style>\n",
              "<table border=\"1\" class=\"dataframe\">\n",
              "  <thead>\n",
              "    <tr style=\"text-align: right;\">\n",
              "      <th>날짜</th>\n",
              "      <th>2019-01-01</th>\n",
              "      <th>2019-01-02</th>\n",
              "      <th>2019-01-03</th>\n",
              "      <th>2019-01-04</th>\n",
              "      <th>2019-01-05</th>\n",
              "      <th>2019-01-06</th>\n",
              "      <th>2019-01-07</th>\n",
              "      <th>2019-01-08</th>\n",
              "      <th>2019-01-09</th>\n",
              "      <th>2019-01-10</th>\n",
              "      <th>2019-01-11</th>\n",
              "      <th>2019-01-12</th>\n",
              "      <th>2019-01-13</th>\n",
              "      <th>2019-01-14</th>\n",
              "      <th>2019-01-15</th>\n",
              "      <th>2019-01-16</th>\n",
              "      <th>2019-01-17</th>\n",
              "      <th>2019-01-18</th>\n",
              "      <th>2019-01-19</th>\n",
              "      <th>2019-01-20</th>\n",
              "      <th>2019-01-21</th>\n",
              "      <th>2019-01-22</th>\n",
              "      <th>2019-01-23</th>\n",
              "      <th>2019-01-24</th>\n",
              "      <th>2019-01-25</th>\n",
              "      <th>2019-01-26</th>\n",
              "      <th>2019-01-27</th>\n",
              "      <th>2019-01-28</th>\n",
              "      <th>2019-01-29</th>\n",
              "      <th>2019-01-30</th>\n",
              "      <th>2019-01-31</th>\n",
              "      <th>2019-02-01</th>\n",
              "      <th>2019-02-02</th>\n",
              "      <th>2019-02-03</th>\n",
              "      <th>2019-02-04</th>\n",
              "      <th>2019-02-05</th>\n",
              "      <th>2019-02-06</th>\n",
              "      <th>2019-02-07</th>\n",
              "      <th>2019-02-08</th>\n",
              "      <th>2019-02-09</th>\n",
              "      <th>...</th>\n",
              "      <th>2019-02-19</th>\n",
              "      <th>2019-02-20</th>\n",
              "      <th>2019-02-21</th>\n",
              "      <th>2019-02-22</th>\n",
              "      <th>2019-02-23</th>\n",
              "      <th>2019-02-24</th>\n",
              "      <th>2019-02-25</th>\n",
              "      <th>2019-02-26</th>\n",
              "      <th>2019-02-27</th>\n",
              "      <th>2019-02-28</th>\n",
              "      <th>2019-03-01</th>\n",
              "      <th>2019-03-02</th>\n",
              "      <th>2019-03-03</th>\n",
              "      <th>2019-03-04</th>\n",
              "      <th>2019-03-05</th>\n",
              "      <th>2019-03-06</th>\n",
              "      <th>2019-03-07</th>\n",
              "      <th>2019-03-08</th>\n",
              "      <th>2019-03-09</th>\n",
              "      <th>2019-03-10</th>\n",
              "      <th>2019-03-11</th>\n",
              "      <th>2019-03-12</th>\n",
              "      <th>2019-03-13</th>\n",
              "      <th>2019-03-14</th>\n",
              "      <th>2019-03-15</th>\n",
              "      <th>2019-03-16</th>\n",
              "      <th>2019-03-17</th>\n",
              "      <th>2019-03-18</th>\n",
              "      <th>2019-03-19</th>\n",
              "      <th>2019-03-20</th>\n",
              "      <th>2019-03-21</th>\n",
              "      <th>2019-03-22</th>\n",
              "      <th>2019-03-23</th>\n",
              "      <th>2019-03-24</th>\n",
              "      <th>2019-03-25</th>\n",
              "      <th>2019-03-26</th>\n",
              "      <th>2019-03-27</th>\n",
              "      <th>2019-03-28</th>\n",
              "      <th>2019-03-29</th>\n",
              "      <th>2019-03-30</th>\n",
              "    </tr>\n",
              "    <tr>\n",
              "      <th>제품군</th>\n",
              "      <th></th>\n",
              "      <th></th>\n",
              "      <th></th>\n",
              "      <th></th>\n",
              "      <th></th>\n",
              "      <th></th>\n",
              "      <th></th>\n",
              "      <th></th>\n",
              "      <th></th>\n",
              "      <th></th>\n",
              "      <th></th>\n",
              "      <th></th>\n",
              "      <th></th>\n",
              "      <th></th>\n",
              "      <th></th>\n",
              "      <th></th>\n",
              "      <th></th>\n",
              "      <th></th>\n",
              "      <th></th>\n",
              "      <th></th>\n",
              "      <th></th>\n",
              "      <th></th>\n",
              "      <th></th>\n",
              "      <th></th>\n",
              "      <th></th>\n",
              "      <th></th>\n",
              "      <th></th>\n",
              "      <th></th>\n",
              "      <th></th>\n",
              "      <th></th>\n",
              "      <th></th>\n",
              "      <th></th>\n",
              "      <th></th>\n",
              "      <th></th>\n",
              "      <th></th>\n",
              "      <th></th>\n",
              "      <th></th>\n",
              "      <th></th>\n",
              "      <th></th>\n",
              "      <th></th>\n",
              "      <th></th>\n",
              "      <th></th>\n",
              "      <th></th>\n",
              "      <th></th>\n",
              "      <th></th>\n",
              "      <th></th>\n",
              "      <th></th>\n",
              "      <th></th>\n",
              "      <th></th>\n",
              "      <th></th>\n",
              "      <th></th>\n",
              "      <th></th>\n",
              "      <th></th>\n",
              "      <th></th>\n",
              "      <th></th>\n",
              "      <th></th>\n",
              "      <th></th>\n",
              "      <th></th>\n",
              "      <th></th>\n",
              "      <th></th>\n",
              "      <th></th>\n",
              "      <th></th>\n",
              "      <th></th>\n",
              "      <th></th>\n",
              "      <th></th>\n",
              "      <th></th>\n",
              "      <th></th>\n",
              "      <th></th>\n",
              "      <th></th>\n",
              "      <th></th>\n",
              "      <th></th>\n",
              "      <th></th>\n",
              "      <th></th>\n",
              "      <th></th>\n",
              "      <th></th>\n",
              "      <th></th>\n",
              "      <th></th>\n",
              "      <th></th>\n",
              "      <th></th>\n",
              "      <th></th>\n",
              "      <th></th>\n",
              "    </tr>\n",
              "  </thead>\n",
              "  <tbody>\n",
              "    <tr>\n",
              "      <th>스포츠/여행</th>\n",
              "      <td>453,084384,590112,488182,334</td>\n",
              "      <td>44,169263,496278,490</td>\n",
              "      <td>97,115</td>\n",
              "      <td>144,831</td>\n",
              "      <td>NaN</td>\n",
              "      <td>15,954268,696</td>\n",
              "      <td>70,845570,492</td>\n",
              "      <td>193,130151,320134,84626,540</td>\n",
              "      <td>992,58098,592</td>\n",
              "      <td>697,048160,013605,262</td>\n",
              "      <td>181,292342,492</td>\n",
              "      <td>415,835143,580</td>\n",
              "      <td>453,024331,821</td>\n",
              "      <td>36,202</td>\n",
              "      <td>584,814139,048</td>\n",
              "      <td>660,59032,220124,782193,814</td>\n",
              "      <td>373,98584,49080,184428,862</td>\n",
              "      <td>848,295555,732</td>\n",
              "      <td>279,800196,74684,167667,580</td>\n",
              "      <td>193,732344,988</td>\n",
              "      <td>102,055</td>\n",
              "      <td>NaN</td>\n",
              "      <td>933,920</td>\n",
              "      <td>819,210144,018796,640</td>\n",
              "      <td>45,490166,608656,982</td>\n",
              "      <td>466,540268,010</td>\n",
              "      <td>167,700149,340</td>\n",
              "      <td>730,737673,672</td>\n",
              "      <td>119,496277,370145,23591,560</td>\n",
              "      <td>158,91223,275</td>\n",
              "      <td>222,300498,76278,853</td>\n",
              "      <td>506,107</td>\n",
              "      <td>428,648</td>\n",
              "      <td>515,457307,63276,929513,030134,067</td>\n",
              "      <td>223,910</td>\n",
              "      <td>34,300234,624</td>\n",
              "      <td>NaN</td>\n",
              "      <td>47,40310,577</td>\n",
              "      <td>628,334431,310845,019337,845</td>\n",
              "      <td>231,300</td>\n",
              "      <td>...</td>\n",
              "      <td>466,501</td>\n",
              "      <td>332,700</td>\n",
              "      <td>205,504</td>\n",
              "      <td>695,170254,700</td>\n",
              "      <td>425,082</td>\n",
              "      <td>361,608</td>\n",
              "      <td>66,23891,988475,330</td>\n",
              "      <td>56,628397,448</td>\n",
              "      <td>349,805</td>\n",
              "      <td>NaN</td>\n",
              "      <td>NaN</td>\n",
              "      <td>276,52529,932567,320538,57382,09852,644</td>\n",
              "      <td>NaN</td>\n",
              "      <td>89,838</td>\n",
              "      <td>604,674725,300</td>\n",
              "      <td>164,420574,890350,635349,317</td>\n",
              "      <td>NaN</td>\n",
              "      <td>NaN</td>\n",
              "      <td>254,330935,622543,500126,610</td>\n",
              "      <td>325,62580,622</td>\n",
              "      <td>251,594215,558</td>\n",
              "      <td>716,352406,600</td>\n",
              "      <td>151,590</td>\n",
              "      <td>44,564219,774912,411</td>\n",
              "      <td>302,016753,208</td>\n",
              "      <td>603,20077,969357,450</td>\n",
              "      <td>340,140799,970</td>\n",
              "      <td>172,950</td>\n",
              "      <td>928,890</td>\n",
              "      <td>457,810631,656362,421131,300</td>\n",
              "      <td>205,880</td>\n",
              "      <td>387,690735,736231,006446,730</td>\n",
              "      <td>161,200</td>\n",
              "      <td>128,80576,440</td>\n",
              "      <td>194,084</td>\n",
              "      <td>40,685</td>\n",
              "      <td>582,756</td>\n",
              "      <td>NaN</td>\n",
              "      <td>NaN</td>\n",
              "      <td>292,873465,295</td>\n",
              "    </tr>\n",
              "    <tr>\n",
              "      <th>식품/음료</th>\n",
              "      <td>175,720880,150</td>\n",
              "      <td>259,956</td>\n",
              "      <td>NaN</td>\n",
              "      <td>NaN</td>\n",
              "      <td>74,048</td>\n",
              "      <td>930,590212,890</td>\n",
              "      <td>370,82484,927</td>\n",
              "      <td>570,256775,840682,15575,846345,380</td>\n",
              "      <td>NaN</td>\n",
              "      <td>472,590</td>\n",
              "      <td>233,44271,710302,640267,687</td>\n",
              "      <td>NaN</td>\n",
              "      <td>150,57287,528</td>\n",
              "      <td>531,874518,390132,16488,223</td>\n",
              "      <td>90,690174,242</td>\n",
              "      <td>872,910492,336</td>\n",
              "      <td>844,580120,412136,552</td>\n",
              "      <td>164,656</td>\n",
              "      <td>359,256319,986281,880247,896</td>\n",
              "      <td>NaN</td>\n",
              "      <td>170,57175,62871,739</td>\n",
              "      <td>150,070</td>\n",
              "      <td>160,160320,072614,826445,815</td>\n",
              "      <td>NaN</td>\n",
              "      <td>459,470353,150</td>\n",
              "      <td>301,641416,260164,07069,326</td>\n",
              "      <td>563,100509,868</td>\n",
              "      <td>83,937</td>\n",
              "      <td>524,472</td>\n",
              "      <td>504,5551,024,610</td>\n",
              "      <td>NaN</td>\n",
              "      <td>73,995545,874</td>\n",
              "      <td>113,980435,708548,87239,957</td>\n",
              "      <td>665,392210,705701,480141,855245,230</td>\n",
              "      <td>97,09670,481</td>\n",
              "      <td>400,79791,416294,966</td>\n",
              "      <td>413,588187,29054,517</td>\n",
              "      <td>449,180102,834565,340</td>\n",
              "      <td>NaN</td>\n",
              "      <td>65,76922,443327,97833,114</td>\n",
              "      <td>...</td>\n",
              "      <td>171,560923,454</td>\n",
              "      <td>171,102479,910414,960250,848180,150</td>\n",
              "      <td>NaN</td>\n",
              "      <td>31,626</td>\n",
              "      <td>334,29637,326308,226305,636</td>\n",
              "      <td>219,896</td>\n",
              "      <td>50,554310,752261,456</td>\n",
              "      <td>214,623165,984</td>\n",
              "      <td>785,992196,040774,180</td>\n",
              "      <td>503,070</td>\n",
              "      <td>311,54455,869</td>\n",
              "      <td>276,724</td>\n",
              "      <td>184,456759,720</td>\n",
              "      <td>821,184310,584</td>\n",
              "      <td>151,383814,42056,409</td>\n",
              "      <td>451,941</td>\n",
              "      <td>207,564</td>\n",
              "      <td>90,00270,88891,675</td>\n",
              "      <td>518,855926,361</td>\n",
              "      <td>178,902132,64373,745</td>\n",
              "      <td>291,846</td>\n",
              "      <td>392,120400,694</td>\n",
              "      <td>333,354282,205</td>\n",
              "      <td>48,838806,620442,704</td>\n",
              "      <td>NaN</td>\n",
              "      <td>821,808330,770</td>\n",
              "      <td>23,525</td>\n",
              "      <td>NaN</td>\n",
              "      <td>173,348</td>\n",
              "      <td>89,96065,11595,274249,318</td>\n",
              "      <td>357,492</td>\n",
              "      <td>294,110</td>\n",
              "      <td>164,580461,010</td>\n",
              "      <td>318,051</td>\n",
              "      <td>246,042230,424</td>\n",
              "      <td>152,658</td>\n",
              "      <td>359,485163,302100,839165,44490,948</td>\n",
              "      <td>363,540120,432266,970207,128223,641</td>\n",
              "      <td>NaN</td>\n",
              "      <td>603,368194,272</td>\n",
              "    </tr>\n",
              "    <tr>\n",
              "      <th>컴퓨터 주변기기</th>\n",
              "      <td>466,188131,498771,890</td>\n",
              "      <td>137,340</td>\n",
              "      <td>NaN</td>\n",
              "      <td>75,057623,844</td>\n",
              "      <td>683,445</td>\n",
              "      <td>NaN</td>\n",
              "      <td>323,316</td>\n",
              "      <td>208,956248,322</td>\n",
              "      <td>701,575</td>\n",
              "      <td>388,91057,324</td>\n",
              "      <td>NaN</td>\n",
              "      <td>922,170761,776</td>\n",
              "      <td>433,160146,388</td>\n",
              "      <td>447,062419,706</td>\n",
              "      <td>569,835393,430581,050</td>\n",
              "      <td>NaN</td>\n",
              "      <td>NaN</td>\n",
              "      <td>136,810</td>\n",
              "      <td>330,03637,254100,672233,500</td>\n",
              "      <td>NaN</td>\n",
              "      <td>NaN</td>\n",
              "      <td>NaN</td>\n",
              "      <td>262,236412,21286,403</td>\n",
              "      <td>419,120552,405404,52087,856</td>\n",
              "      <td>245,511</td>\n",
              "      <td>376,306633,941</td>\n",
              "      <td>484,33076,190</td>\n",
              "      <td>201,176117,126222,870</td>\n",
              "      <td>40,144611,100</td>\n",
              "      <td>98,384352,936292,593</td>\n",
              "      <td>282,984154,16869,00486,404178,880750,150822,465</td>\n",
              "      <td>215,937</td>\n",
              "      <td>191,170221,460</td>\n",
              "      <td>NaN</td>\n",
              "      <td>74,828183,603542,941</td>\n",
              "      <td>43,452</td>\n",
              "      <td>238,680314,808</td>\n",
              "      <td>274,312339,952825,66030,118481,808287,166</td>\n",
              "      <td>NaN</td>\n",
              "      <td>77,688253,968</td>\n",
              "      <td>...</td>\n",
              "      <td>651,267726,615598,128</td>\n",
              "      <td>NaN</td>\n",
              "      <td>295,278</td>\n",
              "      <td>181,170</td>\n",
              "      <td>124,464707,526</td>\n",
              "      <td>257,300418,700</td>\n",
              "      <td>429,564447,410549,02041,340</td>\n",
              "      <td>565,96896,948</td>\n",
              "      <td>103,678674,128</td>\n",
              "      <td>715,35262,712</td>\n",
              "      <td>85,800472,990</td>\n",
              "      <td>933,47168,74581,93079,602</td>\n",
              "      <td>852,490173,472269,985251,264</td>\n",
              "      <td>31,450180,090</td>\n",
              "      <td>244,326</td>\n",
              "      <td>201,240147,575</td>\n",
              "      <td>349,732138,588</td>\n",
              "      <td>79,455101,046</td>\n",
              "      <td>106,120390,872473,676</td>\n",
              "      <td>26,468120,702</td>\n",
              "      <td>179,350</td>\n",
              "      <td>191,00433,042</td>\n",
              "      <td>NaN</td>\n",
              "      <td>202,748480,357724,724201,987457,13048,954</td>\n",
              "      <td>239,160</td>\n",
              "      <td>397,864</td>\n",
              "      <td>NaN</td>\n",
              "      <td>212,952</td>\n",
              "      <td>170,090702,55855,34848,048736,736</td>\n",
              "      <td>464,940</td>\n",
              "      <td>82,617147,940748,968</td>\n",
              "      <td>98,956</td>\n",
              "      <td>764,090</td>\n",
              "      <td>675,480</td>\n",
              "      <td>621,642151,256140,651220,024</td>\n",
              "      <td>525,616142,614175,240</td>\n",
              "      <td>115,794</td>\n",
              "      <td>148,668189,427</td>\n",
              "      <td>119,976856,340</td>\n",
              "      <td>335,090302,079</td>\n",
              "    </tr>\n",
              "    <tr>\n",
              "      <th>패션/액세서리</th>\n",
              "      <td>615,330</td>\n",
              "      <td>207,626380,106</td>\n",
              "      <td>NaN</td>\n",
              "      <td>285,832</td>\n",
              "      <td>170,85033,17676,918237,306</td>\n",
              "      <td>339,788309,911</td>\n",
              "      <td>609,084349,223</td>\n",
              "      <td>296,99113,291377,762678,390</td>\n",
              "      <td>459,018307,758200,410</td>\n",
              "      <td>581,378</td>\n",
              "      <td>93,278</td>\n",
              "      <td>187,290305,970865,800</td>\n",
              "      <td>77,262124,508</td>\n",
              "      <td>502,84075,212582,820</td>\n",
              "      <td>152,922</td>\n",
              "      <td>53,414163,112</td>\n",
              "      <td>NaN</td>\n",
              "      <td>275,028109,074442,190</td>\n",
              "      <td>618,384</td>\n",
              "      <td>129,960531,480</td>\n",
              "      <td>NaN</td>\n",
              "      <td>NaN</td>\n",
              "      <td>93,29031,834330,806</td>\n",
              "      <td>721,176290,847</td>\n",
              "      <td>16,047288,435126,796264,79577,064</td>\n",
              "      <td>169,250394,680191,62067,59012,57422,173</td>\n",
              "      <td>506,097395,157</td>\n",
              "      <td>123,865</td>\n",
              "      <td>779,130135,700262,578</td>\n",
              "      <td>NaN</td>\n",
              "      <td>143,686821,184646,670427,152</td>\n",
              "      <td>NaN</td>\n",
              "      <td>396,948448,550186,074173,368</td>\n",
              "      <td>400,50555,931</td>\n",
              "      <td>149,844202,300</td>\n",
              "      <td>144,20631,845</td>\n",
              "      <td>60,236403,436</td>\n",
              "      <td>271,188502,608179,150331,290</td>\n",
              "      <td>34,8611,029,3901,010,98020,488</td>\n",
              "      <td>467,810178,683</td>\n",
              "      <td>...</td>\n",
              "      <td>204,838</td>\n",
              "      <td>NaN</td>\n",
              "      <td>13,042307,092</td>\n",
              "      <td>206,70049,338508,338181,900</td>\n",
              "      <td>NaN</td>\n",
              "      <td>174,242</td>\n",
              "      <td>489,475303,888</td>\n",
              "      <td>207,77257,668</td>\n",
              "      <td>729,423163,55144,678205,610</td>\n",
              "      <td>193,856427,340</td>\n",
              "      <td>735,228591,93492,852</td>\n",
              "      <td>84,303480,950</td>\n",
              "      <td>48,266</td>\n",
              "      <td>458,262</td>\n",
              "      <td>114,090229,945170,372</td>\n",
              "      <td>103,834</td>\n",
              "      <td>68,432</td>\n",
              "      <td>321,205390,520</td>\n",
              "      <td>469,83216,931695,534809,456</td>\n",
              "      <td>182,354142,710</td>\n",
              "      <td>393,828</td>\n",
              "      <td>NaN</td>\n",
              "      <td>159,32872,17658,760101,424</td>\n",
              "      <td>398,433619,94092,852</td>\n",
              "      <td>204,46056,534</td>\n",
              "      <td>404,600</td>\n",
              "      <td>365,980</td>\n",
              "      <td>53,52995,659</td>\n",
              "      <td>859,350715,104211,49616,120</td>\n",
              "      <td>738,300206,44034,975</td>\n",
              "      <td>NaN</td>\n",
              "      <td>74,340</td>\n",
              "      <td>380,808154,544490,602</td>\n",
              "      <td>366,600</td>\n",
              "      <td>397,905</td>\n",
              "      <td>50,658128,79354,475</td>\n",
              "      <td>934,317</td>\n",
              "      <td>94,755520,226</td>\n",
              "      <td>NaN</td>\n",
              "      <td>84,696</td>\n",
              "    </tr>\n",
              "    <tr>\n",
              "      <th>헬스/뷰티</th>\n",
              "      <td>130,770</td>\n",
              "      <td>355,780</td>\n",
              "      <td>364,050215,55943,93078,915515,840</td>\n",
              "      <td>109,045</td>\n",
              "      <td>543,746574,322</td>\n",
              "      <td>753,201</td>\n",
              "      <td>NaN</td>\n",
              "      <td>NaN</td>\n",
              "      <td>NaN</td>\n",
              "      <td>75,420</td>\n",
              "      <td>NaN</td>\n",
              "      <td>119,01828,153</td>\n",
              "      <td>370,845</td>\n",
              "      <td>188,66718,460387,226</td>\n",
              "      <td>691,290591,353</td>\n",
              "      <td>NaN</td>\n",
              "      <td>130,666</td>\n",
              "      <td>40,997</td>\n",
              "      <td>NaN</td>\n",
              "      <td>230,880466,501</td>\n",
              "      <td>618,948387,079</td>\n",
              "      <td>105,97584,770348,252</td>\n",
              "      <td>57,150498,940241,904727,706</td>\n",
              "      <td>403,000</td>\n",
              "      <td>941,200285,456212,70099,954</td>\n",
              "      <td>649,305105,486</td>\n",
              "      <td>484,392400,024</td>\n",
              "      <td>270,81690,53019,916674,946825,008627,080</td>\n",
              "      <td>41,964</td>\n",
              "      <td>NaN</td>\n",
              "      <td>NaN</td>\n",
              "      <td>323,148</td>\n",
              "      <td>19,063</td>\n",
              "      <td>NaN</td>\n",
              "      <td>129,636</td>\n",
              "      <td>306,414713,440545,130</td>\n",
              "      <td>93,340269,360185,535237,120</td>\n",
              "      <td>745,472613,080</td>\n",
              "      <td>270,452</td>\n",
              "      <td>879,940</td>\n",
              "      <td>...</td>\n",
              "      <td>181,376264,110</td>\n",
              "      <td>346,735336,130</td>\n",
              "      <td>435,030124,518</td>\n",
              "      <td>NaN</td>\n",
              "      <td>74,756</td>\n",
              "      <td>52,830</td>\n",
              "      <td>354,184203,361260,292</td>\n",
              "      <td>622,188</td>\n",
              "      <td>530,622480,420140,400625,135</td>\n",
              "      <td>174,720</td>\n",
              "      <td>144,58046,239</td>\n",
              "      <td>229,038623,168</td>\n",
              "      <td>26,000290,346210,756</td>\n",
              "      <td>622,93876,025505,750214,374</td>\n",
              "      <td>274,497407,463256,212210,664475,454</td>\n",
              "      <td>82,930</td>\n",
              "      <td>145,548</td>\n",
              "      <td>507,312288,660</td>\n",
              "      <td>540,180215,112</td>\n",
              "      <td>852,280</td>\n",
              "      <td>501,809124,322215,999</td>\n",
              "      <td>602,406172,640198,30840,570</td>\n",
              "      <td>165,050188,340</td>\n",
              "      <td>858,830</td>\n",
              "      <td>232,974200,88696,49189,440</td>\n",
              "      <td>31,970</td>\n",
              "      <td>NaN</td>\n",
              "      <td>NaN</td>\n",
              "      <td>220,948275,144</td>\n",
              "      <td>NaN</td>\n",
              "      <td>NaN</td>\n",
              "      <td>NaN</td>\n",
              "      <td>456,936</td>\n",
              "      <td>430,975</td>\n",
              "      <td>49,296</td>\n",
              "      <td>90,896267,36455,590144,195</td>\n",
              "      <td>270,064</td>\n",
              "      <td>73,381</td>\n",
              "      <td>742,350913,850318,710285,270522,487</td>\n",
              "      <td>909,981603,784438,108</td>\n",
              "    </tr>\n",
              "    <tr>\n",
              "      <th>홈데코</th>\n",
              "      <td>395,952</td>\n",
              "      <td>NaN</td>\n",
              "      <td>348,870394,056</td>\n",
              "      <td>369,620</td>\n",
              "      <td>260,624294,280331,155223,130</td>\n",
              "      <td>490,048258,712</td>\n",
              "      <td>201,618226,930</td>\n",
              "      <td>188,780102,128173,379</td>\n",
              "      <td>68,328164,320</td>\n",
              "      <td>489,090</td>\n",
              "      <td>602,286</td>\n",
              "      <td>1,014,000371,791</td>\n",
              "      <td>252,750</td>\n",
              "      <td>NaN</td>\n",
              "      <td>835,00271,3221,012,650</td>\n",
              "      <td>994,030661,020</td>\n",
              "      <td>90,189134,286688,618</td>\n",
              "      <td>181,206</td>\n",
              "      <td>543,53792,154475,070</td>\n",
              "      <td>752,440111,156742,560116,937</td>\n",
              "      <td>486,408456,894</td>\n",
              "      <td>698,913204,83095,721</td>\n",
              "      <td>197,100522,726</td>\n",
              "      <td>381,05563,305267,447</td>\n",
              "      <td>249,640166,296</td>\n",
              "      <td>106,288</td>\n",
              "      <td>25,022144,352176,470509,700</td>\n",
              "      <td>290,408</td>\n",
              "      <td>454,325</td>\n",
              "      <td>23,87854,755</td>\n",
              "      <td>NaN</td>\n",
              "      <td>756,198</td>\n",
              "      <td>116,708781,000</td>\n",
              "      <td>690,725756,910</td>\n",
              "      <td>14,539727,083</td>\n",
              "      <td>161,676</td>\n",
              "      <td>233,628186,210</td>\n",
              "      <td>206,109121,359774,760</td>\n",
              "      <td>193,316132,080102,150</td>\n",
              "      <td>99,528191,236411,276</td>\n",
              "      <td>...</td>\n",
              "      <td>NaN</td>\n",
              "      <td>78,39689,721</td>\n",
              "      <td>NaN</td>\n",
              "      <td>215,18726,47868,453</td>\n",
              "      <td>NaN</td>\n",
              "      <td>765,020347,75499,174</td>\n",
              "      <td>426,610</td>\n",
              "      <td>NaN</td>\n",
              "      <td>NaN</td>\n",
              "      <td>NaN</td>\n",
              "      <td>72,238</td>\n",
              "      <td>252,720827,3341,012,750</td>\n",
              "      <td>337,281250,600786,160366,160</td>\n",
              "      <td>235,164311,688</td>\n",
              "      <td>516,048126,050794,224</td>\n",
              "      <td>597,87238,480</td>\n",
              "      <td>33,612261,455101,858117,768</td>\n",
              "      <td>942,760212,100</td>\n",
              "      <td>379,869</td>\n",
              "      <td>682,066334,998</td>\n",
              "      <td>83,824527,656147,265</td>\n",
              "      <td>192,276296,513</td>\n",
              "      <td>531,728</td>\n",
              "      <td>147,556437,484</td>\n",
              "      <td>69,056127,206542,960</td>\n",
              "      <td>98,800</td>\n",
              "      <td>322,276105,579</td>\n",
              "      <td>296,710311,064137,655</td>\n",
              "      <td>161,448314,20496,888</td>\n",
              "      <td>480,270518,982879,462</td>\n",
              "      <td>316,746</td>\n",
              "      <td>437,55219,011423,736</td>\n",
              "      <td>26,302591,136404,838</td>\n",
              "      <td>77,854274,312146,266326,060623,502</td>\n",
              "      <td>NaN</td>\n",
              "      <td>115,038</td>\n",
              "      <td>92,228</td>\n",
              "      <td>NaN</td>\n",
              "      <td>225,951</td>\n",
              "      <td>214,782</td>\n",
              "    </tr>\n",
              "  </tbody>\n",
              "</table>\n",
              "<p>6 rows × 89 columns</p>\n",
              "</div>"
            ],
            "text/plain": [
              "날짜                          2019-01-01  ...             2019-03-30\n",
              "제품군                                     ...                       \n",
              "스포츠/여행    453,084384,590112,488182,334  ...         292,873465,295\n",
              "식품/음료                   175,720880,150  ...         603,368194,272\n",
              "컴퓨터 주변기기         466,188131,498771,890  ...         335,090302,079\n",
              "패션/액세서리                        615,330  ...                 84,696\n",
              "헬스/뷰티                          130,770  ...  909,981603,784438,108\n",
              "홈데코                            395,952  ...                214,782\n",
              "\n",
              "[6 rows x 89 columns]"
            ]
          },
          "metadata": {
            "tags": []
          },
          "execution_count": 5
        }
      ]
    },
    {
      "cell_type": "code",
      "metadata": {
        "id": "NRuGI1-wy8bA",
        "colab_type": "code",
        "outputId": "593d8e84-ddae-4a26-e7f1-69c12ed6f4e8",
        "colab": {
          "base_uri": "https://localhost:8080/",
          "height": 233
        }
      },
      "source": [
        "print(df['날짜'])\n"
      ],
      "execution_count": 0,
      "outputs": [
        {
          "output_type": "stream",
          "text": [
            "0      2019-01-05\n",
            "1      2019-03-08\n",
            "2      2019-03-03\n",
            "3      2019-01-27\n",
            "4      2019-02-08\n",
            "          ...    \n",
            "995    2019-01-29\n",
            "996    2019-03-02\n",
            "997    2019-02-09\n",
            "998    2019-02-22\n",
            "999    2019-02-18\n",
            "Name: 날짜, Length: 1000, dtype: object\n"
          ],
          "name": "stdout"
        }
      ]
    },
    {
      "cell_type": "code",
      "metadata": {
        "id": "N8mrOTga0qSm",
        "colab_type": "code",
        "outputId": "d0dd36a0-6cf4-4624-92d0-675a29d2d935",
        "colab": {
          "base_uri": "https://localhost:8080/",
          "height": 1000
        }
      },
      "source": [
        "df['월'] = df['날짜'].str.slice(5,7)\n",
        "df "
      ],
      "execution_count": 0,
      "outputs": [
        {
          "output_type": "execute_result",
          "data": {
            "text/html": [
              "<div>\n",
              "<style scoped>\n",
              "    .dataframe tbody tr th:only-of-type {\n",
              "        vertical-align: middle;\n",
              "    }\n",
              "\n",
              "    .dataframe tbody tr th {\n",
              "        vertical-align: top;\n",
              "    }\n",
              "\n",
              "    .dataframe thead th {\n",
              "        text-align: right;\n",
              "    }\n",
              "</style>\n",
              "<table border=\"1\" class=\"dataframe\">\n",
              "  <thead>\n",
              "    <tr style=\"text-align: right;\">\n",
              "      <th></th>\n",
              "      <th>거래번호</th>\n",
              "      <th>지점</th>\n",
              "      <th>고객타입</th>\n",
              "      <th>성별</th>\n",
              "      <th>제품군</th>\n",
              "      <th>단가</th>\n",
              "      <th>수량</th>\n",
              "      <th>매출액</th>\n",
              "      <th>날짜</th>\n",
              "      <th>시간</th>\n",
              "      <th>지불방식</th>\n",
              "      <th>매출원가</th>\n",
              "      <th>매출이익</th>\n",
              "      <th>월</th>\n",
              "    </tr>\n",
              "  </thead>\n",
              "  <tbody>\n",
              "    <tr>\n",
              "      <th>0</th>\n",
              "      <td>750-67-8428</td>\n",
              "      <td>A</td>\n",
              "      <td>회원</td>\n",
              "      <td>여성</td>\n",
              "      <td>헬스/뷰티</td>\n",
              "      <td>77,678</td>\n",
              "      <td>7</td>\n",
              "      <td>543,746</td>\n",
              "      <td>2019-01-05</td>\n",
              "      <td>13:08</td>\n",
              "      <td>신용카드</td>\n",
              "      <td>522,830</td>\n",
              "      <td>20,916</td>\n",
              "      <td>01</td>\n",
              "    </tr>\n",
              "    <tr>\n",
              "      <th>1</th>\n",
              "      <td>226-31-3081</td>\n",
              "      <td>C</td>\n",
              "      <td>비회원</td>\n",
              "      <td>여성</td>\n",
              "      <td>컴퓨터 주변기기</td>\n",
              "      <td>15,891</td>\n",
              "      <td>5</td>\n",
              "      <td>79,455</td>\n",
              "      <td>2019-03-08</td>\n",
              "      <td>10:29</td>\n",
              "      <td>현금</td>\n",
              "      <td>76,400</td>\n",
              "      <td>3,055</td>\n",
              "      <td>03</td>\n",
              "    </tr>\n",
              "    <tr>\n",
              "      <th>2</th>\n",
              "      <td>631-41-3108</td>\n",
              "      <td>A</td>\n",
              "      <td>비회원</td>\n",
              "      <td>남성</td>\n",
              "      <td>홈데코</td>\n",
              "      <td>48,183</td>\n",
              "      <td>7</td>\n",
              "      <td>337,281</td>\n",
              "      <td>2019-03-03</td>\n",
              "      <td>13:23</td>\n",
              "      <td>신용카드</td>\n",
              "      <td>324,310</td>\n",
              "      <td>12,971</td>\n",
              "      <td>03</td>\n",
              "    </tr>\n",
              "    <tr>\n",
              "      <th>3</th>\n",
              "      <td>123-19-1176</td>\n",
              "      <td>A</td>\n",
              "      <td>회원</td>\n",
              "      <td>남성</td>\n",
              "      <td>헬스/뷰티</td>\n",
              "      <td>60,549</td>\n",
              "      <td>8</td>\n",
              "      <td>484,392</td>\n",
              "      <td>2019-01-27</td>\n",
              "      <td>20:33</td>\n",
              "      <td>신용카드</td>\n",
              "      <td>465,760</td>\n",
              "      <td>18,632</td>\n",
              "      <td>01</td>\n",
              "    </tr>\n",
              "    <tr>\n",
              "      <th>4</th>\n",
              "      <td>373-73-7910</td>\n",
              "      <td>A</td>\n",
              "      <td>비회원</td>\n",
              "      <td>남성</td>\n",
              "      <td>스포츠/여행</td>\n",
              "      <td>89,762</td>\n",
              "      <td>7</td>\n",
              "      <td>628,334</td>\n",
              "      <td>2019-02-08</td>\n",
              "      <td>10:37</td>\n",
              "      <td>신용카드</td>\n",
              "      <td>604,170</td>\n",
              "      <td>24,164</td>\n",
              "      <td>02</td>\n",
              "    </tr>\n",
              "    <tr>\n",
              "      <th>...</th>\n",
              "      <td>...</td>\n",
              "      <td>...</td>\n",
              "      <td>...</td>\n",
              "      <td>...</td>\n",
              "      <td>...</td>\n",
              "      <td>...</td>\n",
              "      <td>...</td>\n",
              "      <td>...</td>\n",
              "      <td>...</td>\n",
              "      <td>...</td>\n",
              "      <td>...</td>\n",
              "      <td>...</td>\n",
              "      <td>...</td>\n",
              "      <td>...</td>\n",
              "    </tr>\n",
              "    <tr>\n",
              "      <th>995</th>\n",
              "      <td>233-67-5758</td>\n",
              "      <td>C</td>\n",
              "      <td>비회원</td>\n",
              "      <td>남성</td>\n",
              "      <td>헬스/뷰티</td>\n",
              "      <td>41,964</td>\n",
              "      <td>1</td>\n",
              "      <td>41,964</td>\n",
              "      <td>2019-01-29</td>\n",
              "      <td>13:46</td>\n",
              "      <td>신용카드</td>\n",
              "      <td>40,350</td>\n",
              "      <td>1,614</td>\n",
              "      <td>01</td>\n",
              "    </tr>\n",
              "    <tr>\n",
              "      <th>996</th>\n",
              "      <td>303-96-2227</td>\n",
              "      <td>B</td>\n",
              "      <td>비회원</td>\n",
              "      <td>여성</td>\n",
              "      <td>홈데코</td>\n",
              "      <td>101,275</td>\n",
              "      <td>10</td>\n",
              "      <td>1,012,750</td>\n",
              "      <td>2019-03-02</td>\n",
              "      <td>17:16</td>\n",
              "      <td>신용카드</td>\n",
              "      <td>973,800</td>\n",
              "      <td>38,950</td>\n",
              "      <td>03</td>\n",
              "    </tr>\n",
              "    <tr>\n",
              "      <th>997</th>\n",
              "      <td>727-02-1313</td>\n",
              "      <td>A</td>\n",
              "      <td>회원</td>\n",
              "      <td>남성</td>\n",
              "      <td>식품/음료</td>\n",
              "      <td>33,114</td>\n",
              "      <td>1</td>\n",
              "      <td>33,114</td>\n",
              "      <td>2019-02-09</td>\n",
              "      <td>13:22</td>\n",
              "      <td>현금</td>\n",
              "      <td>31,840</td>\n",
              "      <td>1,274</td>\n",
              "      <td>02</td>\n",
              "    </tr>\n",
              "    <tr>\n",
              "      <th>998</th>\n",
              "      <td>347-56-2442</td>\n",
              "      <td>A</td>\n",
              "      <td>비회원</td>\n",
              "      <td>남성</td>\n",
              "      <td>홈데코</td>\n",
              "      <td>68,453</td>\n",
              "      <td>1</td>\n",
              "      <td>68,453</td>\n",
              "      <td>2019-02-22</td>\n",
              "      <td>15:33</td>\n",
              "      <td>현금</td>\n",
              "      <td>65,820</td>\n",
              "      <td>2,633</td>\n",
              "      <td>02</td>\n",
              "    </tr>\n",
              "    <tr>\n",
              "      <th>999</th>\n",
              "      <td>849-09-3807</td>\n",
              "      <td>A</td>\n",
              "      <td>회원</td>\n",
              "      <td>여성</td>\n",
              "      <td>패션/액세서리</td>\n",
              "      <td>91,874</td>\n",
              "      <td>7</td>\n",
              "      <td>643,118</td>\n",
              "      <td>2019-02-18</td>\n",
              "      <td>13:28</td>\n",
              "      <td>현금</td>\n",
              "      <td>618,380</td>\n",
              "      <td>24,738</td>\n",
              "      <td>02</td>\n",
              "    </tr>\n",
              "  </tbody>\n",
              "</table>\n",
              "<p>1000 rows × 14 columns</p>\n",
              "</div>"
            ],
            "text/plain": [
              "            거래번호 지점 고객타입  성별       제품군  ...     시간  지불방식     매출원가    매출이익   월\n",
              "0    750-67-8428  A   회원  여성     헬스/뷰티  ...  13:08  신용카드  522,830  20,916  01\n",
              "1    226-31-3081  C  비회원  여성  컴퓨터 주변기기  ...  10:29    현금   76,400   3,055  03\n",
              "2    631-41-3108  A  비회원  남성       홈데코  ...  13:23  신용카드  324,310  12,971  03\n",
              "3    123-19-1176  A   회원  남성     헬스/뷰티  ...  20:33  신용카드  465,760  18,632  01\n",
              "4    373-73-7910  A  비회원  남성    스포츠/여행  ...  10:37  신용카드  604,170  24,164  02\n",
              "..           ... ..  ...  ..       ...  ...    ...   ...      ...     ...  ..\n",
              "995  233-67-5758  C  비회원  남성     헬스/뷰티  ...  13:46  신용카드   40,350   1,614  01\n",
              "996  303-96-2227  B  비회원  여성       홈데코  ...  17:16  신용카드  973,800  38,950  03\n",
              "997  727-02-1313  A   회원  남성     식품/음료  ...  13:22    현금   31,840   1,274  02\n",
              "998  347-56-2442  A  비회원  남성       홈데코  ...  15:33    현금   65,820   2,633  02\n",
              "999  849-09-3807  A   회원  여성   패션/액세서리  ...  13:28    현금  618,380  24,738  02\n",
              "\n",
              "[1000 rows x 14 columns]"
            ]
          },
          "metadata": {
            "tags": []
          },
          "execution_count": 7
        }
      ]
    },
    {
      "cell_type": "code",
      "metadata": {
        "id": "jUQPFgco--kF",
        "colab_type": "code",
        "outputId": "fd49016b-bea5-49ce-ab76-b56df838dcf8",
        "colab": {
          "base_uri": "https://localhost:8080/",
          "height": 287
        }
      },
      "source": [
        "print(df.dtypes)"
      ],
      "execution_count": 0,
      "outputs": [
        {
          "output_type": "stream",
          "text": [
            "거래번호    object\n",
            "지점      object\n",
            "고객타입    object\n",
            "성별      object\n",
            "제품군     object\n",
            "단가      object\n",
            "수량       int64\n",
            "매출액     object\n",
            "날짜      object\n",
            "시간      object\n",
            "지불방식    object\n",
            "매출원가    object\n",
            "매출이익    object\n",
            "월       object\n",
            "dtype: object\n"
          ],
          "name": "stdout"
        }
      ]
    },
    {
      "cell_type": "code",
      "metadata": {
        "id": "RK7qPqC7_gNp",
        "colab_type": "code",
        "outputId": "cc7771d6-4031-4fe4-c1e6-31065dc0cf75",
        "colab": {
          "base_uri": "https://localhost:8080/",
          "height": 460
        }
      },
      "source": [
        "pd.to_numeric(df['매출액'])"
      ],
      "execution_count": 0,
      "outputs": [
        {
          "output_type": "error",
          "ename": "ValueError",
          "evalue": "ignored",
          "traceback": [
            "\u001b[0;31m---------------------------------------------------------------------------\u001b[0m",
            "\u001b[0;31mValueError\u001b[0m                                Traceback (most recent call last)",
            "\u001b[0;32mpandas/_libs/lib.pyx\u001b[0m in \u001b[0;36mpandas._libs.lib.maybe_convert_numeric\u001b[0;34m()\u001b[0m\n",
            "\u001b[0;31mValueError\u001b[0m: Unable to parse string \"543,746\"",
            "\nDuring handling of the above exception, another exception occurred:\n",
            "\u001b[0;31mValueError\u001b[0m                                Traceback (most recent call last)",
            "\u001b[0;32m<ipython-input-32-0690aedd35aa>\u001b[0m in \u001b[0;36m<module>\u001b[0;34m()\u001b[0m\n\u001b[0;32m----> 1\u001b[0;31m \u001b[0mpd\u001b[0m\u001b[0;34m.\u001b[0m\u001b[0mto_numeric\u001b[0m\u001b[0;34m(\u001b[0m\u001b[0mdf\u001b[0m\u001b[0;34m[\u001b[0m\u001b[0;34m'매출액'\u001b[0m\u001b[0;34m]\u001b[0m\u001b[0;34m)\u001b[0m\u001b[0;34m\u001b[0m\u001b[0;34m\u001b[0m\u001b[0m\n\u001b[0m",
            "\u001b[0;32m/usr/local/lib/python3.6/dist-packages/pandas/core/tools/numeric.py\u001b[0m in \u001b[0;36mto_numeric\u001b[0;34m(arg, errors, downcast)\u001b[0m\n\u001b[1;32m    148\u001b[0m         \u001b[0;32mtry\u001b[0m\u001b[0;34m:\u001b[0m\u001b[0;34m\u001b[0m\u001b[0;34m\u001b[0m\u001b[0m\n\u001b[1;32m    149\u001b[0m             values = lib.maybe_convert_numeric(\n\u001b[0;32m--> 150\u001b[0;31m                 \u001b[0mvalues\u001b[0m\u001b[0;34m,\u001b[0m \u001b[0mset\u001b[0m\u001b[0;34m(\u001b[0m\u001b[0;34m)\u001b[0m\u001b[0;34m,\u001b[0m \u001b[0mcoerce_numeric\u001b[0m\u001b[0;34m=\u001b[0m\u001b[0mcoerce_numeric\u001b[0m\u001b[0;34m\u001b[0m\u001b[0;34m\u001b[0m\u001b[0m\n\u001b[0m\u001b[1;32m    151\u001b[0m             )\n\u001b[1;32m    152\u001b[0m         \u001b[0;32mexcept\u001b[0m \u001b[0;34m(\u001b[0m\u001b[0mValueError\u001b[0m\u001b[0;34m,\u001b[0m \u001b[0mTypeError\u001b[0m\u001b[0;34m)\u001b[0m\u001b[0;34m:\u001b[0m\u001b[0;34m\u001b[0m\u001b[0;34m\u001b[0m\u001b[0m\n",
            "\u001b[0;32mpandas/_libs/lib.pyx\u001b[0m in \u001b[0;36mpandas._libs.lib.maybe_convert_numeric\u001b[0;34m()\u001b[0m\n",
            "\u001b[0;31mValueError\u001b[0m: Unable to parse string \"543,746\" at position 0"
          ]
        }
      ]
    },
    {
      "cell_type": "code",
      "metadata": {
        "id": "_w5IfUeQ2Lwb",
        "colab_type": "code",
        "outputId": "bf637b28-38fe-4433-856e-26b67e36026f",
        "colab": {
          "base_uri": "https://localhost:8080/",
          "height": 266
        }
      },
      "source": [
        "table = pd.pivot_table(df, index='제품군', columns='월', values='매출액', aggfunc='sum')\n",
        "table"
      ],
      "execution_count": 0,
      "outputs": [
        {
          "output_type": "execute_result",
          "data": {
            "text/html": [
              "<div>\n",
              "<style scoped>\n",
              "    .dataframe tbody tr th:only-of-type {\n",
              "        vertical-align: middle;\n",
              "    }\n",
              "\n",
              "    .dataframe tbody tr th {\n",
              "        vertical-align: top;\n",
              "    }\n",
              "\n",
              "    .dataframe thead th {\n",
              "        text-align: right;\n",
              "    }\n",
              "</style>\n",
              "<table border=\"1\" class=\"dataframe\">\n",
              "  <thead>\n",
              "    <tr style=\"text-align: right;\">\n",
              "      <th>월</th>\n",
              "      <th>01</th>\n",
              "      <th>02</th>\n",
              "      <th>03</th>\n",
              "    </tr>\n",
              "    <tr>\n",
              "      <th>제품군</th>\n",
              "      <th></th>\n",
              "      <th></th>\n",
              "      <th></th>\n",
              "    </tr>\n",
              "  </thead>\n",
              "  <tbody>\n",
              "    <tr>\n",
              "      <th>스포츠/여행</th>\n",
              "      <td>584,814453,084730,737697,04870,845819,21044,16...</td>\n",
              "      <td>628,334431,31077,190515,45734,300845,019144,93...</td>\n",
              "      <td>276,525325,625164,420254,330604,674387,690935,...</td>\n",
              "    </tr>\n",
              "    <tr>\n",
              "      <th>식품/음료</th>\n",
              "      <td>170,571459,470930,590301,641160,160570,256359,...</td>\n",
              "      <td>171,102449,180413,588187,290665,392231,870334,...</td>\n",
              "      <td>821,184151,383814,420359,485164,580363,540318,...</td>\n",
              "    </tr>\n",
              "    <tr>\n",
              "      <th>컴퓨터 주변기기</th>\n",
              "      <td>569,835433,160922,170136,81075,057330,036447,0...</td>\n",
              "      <td>429,564244,140447,410179,710118,122715,35277,6...</td>\n",
              "      <td>79,455621,642106,120390,872191,004473,676101,0...</td>\n",
              "    </tr>\n",
              "    <tr>\n",
              "      <th>패션/액세서리</th>\n",
              "      <td>16,047609,084459,018187,290170,85053,414296,99...</td>\n",
              "      <td>60,23634,861489,475646,050530,278281,487313,46...</td>\n",
              "      <td>182,354859,35074,340397,90550,658735,22884,303...</td>\n",
              "    </tr>\n",
              "    <tr>\n",
              "      <th>헬스/뷰티</th>\n",
              "      <td>543,746484,39275,420105,975618,948941,200364,0...</td>\n",
              "      <td>530,622745,472315,08069,61819,063480,42093,340...</td>\n",
              "      <td>742,350501,809274,497232,974200,886456,93631,9...</td>\n",
              "    </tr>\n",
              "    <tr>\n",
              "      <th>홈데코</th>\n",
              "      <td>90,189752,440698,913197,100543,537111,156486,4...</td>\n",
              "      <td>765,020116,708347,754756,198214,782193,31677,0...</td>\n",
              "      <td>337,28183,82469,056437,552250,60033,61292,2285...</td>\n",
              "    </tr>\n",
              "  </tbody>\n",
              "</table>\n",
              "</div>"
            ],
            "text/plain": [
              "월                                                        01  ...                                                 03\n",
              "제품군                                                          ...                                                   \n",
              "스포츠/여행    584,814453,084730,737697,04870,845819,21044,16...  ...  276,525325,625164,420254,330604,674387,690935,...\n",
              "식품/음료     170,571459,470930,590301,641160,160570,256359,...  ...  821,184151,383814,420359,485164,580363,540318,...\n",
              "컴퓨터 주변기기  569,835433,160922,170136,81075,057330,036447,0...  ...  79,455621,642106,120390,872191,004473,676101,0...\n",
              "패션/액세서리   16,047609,084459,018187,290170,85053,414296,99...  ...  182,354859,35074,340397,90550,658735,22884,303...\n",
              "헬스/뷰티     543,746484,39275,420105,975618,948941,200364,0...  ...  742,350501,809274,497232,974200,886456,93631,9...\n",
              "홈데코       90,189752,440698,913197,100543,537111,156486,4...  ...  337,28183,82469,056437,552250,60033,61292,2285...\n",
              "\n",
              "[6 rows x 3 columns]"
            ]
          },
          "metadata": {
            "tags": []
          },
          "execution_count": 41
        }
      ]
    },
    {
      "cell_type": "markdown",
      "metadata": {
        "id": "_kD2orSODHi_",
        "colab_type": "text"
      },
      "source": [
        "# 크롤링\n"
      ]
    },
    {
      "cell_type": "markdown",
      "metadata": {
        "id": "hdCvgMH3kCPY",
        "colab_type": "text"
      },
      "source": [
        "## bs4 기반\n"
      ]
    },
    {
      "cell_type": "code",
      "metadata": {
        "id": "1_uZU3qUpG2_",
        "colab_type": "code",
        "colab": {}
      },
      "source": [
        "from google.colab import drive\n",
        "drive.mount('/content/drive')"
      ],
      "execution_count": 0,
      "outputs": []
    },
    {
      "cell_type": "code",
      "metadata": {
        "id": "tyhmau7bDKUO",
        "colab_type": "code",
        "colab": {}
      },
      "source": [
        "import requests\n",
        "from bs4 import BeautifulSoup\n",
        "\n",
        "# URL을 읽어서 HTML를 받아오고,\n",
        "headers = {'User-Agent' : 'Mozilla/5.0 (Windows NT 10.0; Win64; x64)AppleWebKit/537.36 (KHTML, like Gecko) Chrome/73.0.3683.86 Safari/537.36'}\n",
        "data = requests.get('https://finance.naver.com/item/main.nhn?code=005930',headers=headers)\n",
        "\n",
        "# HTML을 BeautifulSoup이라는 라이브러리를 활용해 검색하기 용이한 상태로 만듦\n",
        "soup = BeautifulSoup(data.text, 'html.parser')"
      ],
      "execution_count": 0,
      "outputs": []
    },
    {
      "cell_type": "markdown",
      "metadata": {
        "id": "CedxvKWYGv12",
        "colab_type": "text"
      },
      "source": [
        "크롬 드라이버 \n",
        "   https://chromedriver.chromium.org/downloads"
      ]
    },
    {
      "cell_type": "code",
      "metadata": {
        "id": "nNFviWG2EF_i",
        "colab_type": "code",
        "colab": {}
      },
      "source": [
        "import tensorflow as tf"
      ],
      "execution_count": 0,
      "outputs": []
    },
    {
      "cell_type": "markdown",
      "metadata": {
        "id": "pQIywsUQrSNe",
        "colab_type": "text"
      },
      "source": [
        "# Numpy"
      ]
    },
    {
      "cell_type": "code",
      "metadata": {
        "id": "6gYzrcXwrWjs",
        "colab_type": "code",
        "colab": {}
      },
      "source": [
        "import numpy as np"
      ],
      "execution_count": 0,
      "outputs": []
    },
    {
      "cell_type": "code",
      "metadata": {
        "id": "RdBJSO_nrdD3",
        "colab_type": "code",
        "outputId": "50be4178-94e3-41af-cebf-112ac5e8a11c",
        "colab": {
          "base_uri": "https://localhost:8080/",
          "height": 35
        }
      },
      "source": [
        "arr = np.array([[1,2,3,],[1,2,3]], dtype = np.int)\n",
        "arr.dtype"
      ],
      "execution_count": 0,
      "outputs": [
        {
          "output_type": "execute_result",
          "data": {
            "text/plain": [
              "dtype('int64')"
            ]
          },
          "metadata": {
            "tags": []
          },
          "execution_count": 5
        }
      ]
    },
    {
      "cell_type": "code",
      "metadata": {
        "id": "kj_cmD1msALc",
        "colab_type": "code",
        "outputId": "1cf99cce-cec1-46c1-e819-d2130e5f6268",
        "colab": {
          "base_uri": "https://localhost:8080/",
          "height": 35
        }
      },
      "source": [
        "arr.shape"
      ],
      "execution_count": 0,
      "outputs": [
        {
          "output_type": "execute_result",
          "data": {
            "text/plain": [
              "(2, 3)"
            ]
          },
          "metadata": {
            "tags": []
          },
          "execution_count": 6
        }
      ]
    },
    {
      "cell_type": "code",
      "metadata": {
        "id": "i9M75vPQsLDY",
        "colab_type": "code",
        "outputId": "8652b33a-0961-42c5-b546-ba8aeb0e22ad",
        "colab": {
          "base_uri": "https://localhost:8080/",
          "height": 35
        }
      },
      "source": [
        "arr = arr.reshape([1,6])\n",
        "arr.shape"
      ],
      "execution_count": 0,
      "outputs": [
        {
          "output_type": "execute_result",
          "data": {
            "text/plain": [
              "(1, 6)"
            ]
          },
          "metadata": {
            "tags": []
          },
          "execution_count": 7
        }
      ]
    },
    {
      "cell_type": "code",
      "metadata": {
        "id": "cWTgbo0qsliZ",
        "colab_type": "code",
        "outputId": "b25c4fde-31e1-40ec-d80e-808fc6c10941",
        "colab": {
          "base_uri": "https://localhost:8080/",
          "height": 35
        }
      },
      "source": [
        "arr.reshape(-1)"
      ],
      "execution_count": 0,
      "outputs": [
        {
          "output_type": "execute_result",
          "data": {
            "text/plain": [
              "array([1, 2, 3, 1, 2, 3])"
            ]
          },
          "metadata": {
            "tags": []
          },
          "execution_count": 8
        }
      ]
    },
    {
      "cell_type": "code",
      "metadata": {
        "id": "BOqI6Wh3s4_Y",
        "colab_type": "code",
        "outputId": "eea5b8df-db20-4de0-a672-8f10598cd7a6",
        "colab": {
          "base_uri": "https://localhost:8080/",
          "height": 35
        }
      },
      "source": [
        "arr = arr.reshape(-1,3)\n",
        "arr.shape"
      ],
      "execution_count": 0,
      "outputs": [
        {
          "output_type": "execute_result",
          "data": {
            "text/plain": [
              "(2, 3)"
            ]
          },
          "metadata": {
            "tags": []
          },
          "execution_count": 9
        }
      ]
    },
    {
      "cell_type": "code",
      "metadata": {
        "id": "wFBeMS3WtCnv",
        "colab_type": "code",
        "outputId": "64d147be-4705-4202-c3f9-b533294cd763",
        "colab": {
          "base_uri": "https://localhost:8080/",
          "height": 35
        }
      },
      "source": [
        "arr = np.random.randn(8,8)\n",
        "arr.shape"
      ],
      "execution_count": 0,
      "outputs": [
        {
          "output_type": "execute_result",
          "data": {
            "text/plain": [
              "(8, 8)"
            ]
          },
          "metadata": {
            "tags": []
          },
          "execution_count": 10
        }
      ]
    },
    {
      "cell_type": "code",
      "metadata": {
        "id": "bfR0z7kotMbe",
        "colab_type": "code",
        "outputId": "efd8db7f-b875-4ad9-9cc0-a9d37d1a1bd9",
        "colab": {
          "base_uri": "https://localhost:8080/",
          "height": 35
        }
      },
      "source": [
        "arr = arr.reshape(-1,2,1)\n",
        "arr.shape"
      ],
      "execution_count": 0,
      "outputs": [
        {
          "output_type": "execute_result",
          "data": {
            "text/plain": [
              "(32, 2, 1)"
            ]
          },
          "metadata": {
            "tags": []
          },
          "execution_count": 11
        }
      ]
    },
    {
      "cell_type": "markdown",
      "metadata": {
        "id": "kZvBZWHitafC",
        "colab_type": "text"
      },
      "source": [
        "Ravel : 1차원으로 펼치기 "
      ]
    },
    {
      "cell_type": "code",
      "metadata": {
        "id": "yo7xz5Qftder",
        "colab_type": "code",
        "outputId": "07532e01-9af1-4524-8915-4066a3432eb3",
        "colab": {
          "base_uri": "https://localhost:8080/",
          "height": 35
        }
      },
      "source": [
        "arr.shape"
      ],
      "execution_count": 0,
      "outputs": [
        {
          "output_type": "execute_result",
          "data": {
            "text/plain": [
              "(32, 2, 1)"
            ]
          },
          "metadata": {
            "tags": []
          },
          "execution_count": 12
        }
      ]
    },
    {
      "cell_type": "code",
      "metadata": {
        "id": "kO06yQjitkEK",
        "colab_type": "code",
        "outputId": "5b141577-6671-42fc-ef75-703de94067d3",
        "colab": {
          "base_uri": "https://localhost:8080/",
          "height": 35
        }
      },
      "source": [
        "arr = arr.ravel()\n",
        "arr.shape"
      ],
      "execution_count": 0,
      "outputs": [
        {
          "output_type": "execute_result",
          "data": {
            "text/plain": [
              "(64,)"
            ]
          },
          "metadata": {
            "tags": []
          },
          "execution_count": 13
        }
      ]
    },
    {
      "cell_type": "markdown",
      "metadata": {
        "id": "tgSXplCFtrcx",
        "colab_type": "text"
      },
      "source": [
        "np.expand_dims()\n"
      ]
    },
    {
      "cell_type": "code",
      "metadata": {
        "id": "yCjjfoC7tvTK",
        "colab_type": "code",
        "outputId": "6562e9f5-23a0-48a5-9eba-821866c30caa",
        "colab": {
          "base_uri": "https://localhost:8080/",
          "height": 35
        }
      },
      "source": [
        "arr.shape"
      ],
      "execution_count": 0,
      "outputs": [
        {
          "output_type": "execute_result",
          "data": {
            "text/plain": [
              "(64,)"
            ]
          },
          "metadata": {
            "tags": []
          },
          "execution_count": 14
        }
      ]
    },
    {
      "cell_type": "code",
      "metadata": {
        "id": "yLPxqNOht27w",
        "colab_type": "code",
        "outputId": "13bf3230-1873-4522-f60c-65bdc1eda251",
        "colab": {
          "base_uri": "https://localhost:8080/",
          "height": 35
        }
      },
      "source": [
        "arr = np.expand_dims(arr,0)\n",
        "arr.shape"
      ],
      "execution_count": 0,
      "outputs": [
        {
          "output_type": "execute_result",
          "data": {
            "text/plain": [
              "(1, 64)"
            ]
          },
          "metadata": {
            "tags": []
          },
          "execution_count": 15
        }
      ]
    },
    {
      "cell_type": "code",
      "metadata": {
        "id": "tkdl5d_vt_Ud",
        "colab_type": "code",
        "outputId": "76ed5dfb-3caa-45b7-c60e-8bdda5f558a8",
        "colab": {
          "base_uri": "https://localhost:8080/",
          "height": 35
        }
      },
      "source": [
        "arr = arr.ravel()\n",
        "arr.shape\n",
        "arr = np.expand_dims(arr,-1)\n",
        "arr.shape"
      ],
      "execution_count": 0,
      "outputs": [
        {
          "output_type": "execute_result",
          "data": {
            "text/plain": [
              "(64, 1)"
            ]
          },
          "metadata": {
            "tags": []
          },
          "execution_count": 16
        }
      ]
    },
    {
      "cell_type": "markdown",
      "metadata": {
        "id": "FCySW2GiuNYI",
        "colab_type": "text"
      },
      "source": [
        "Zeros & Ones\n"
      ]
    },
    {
      "cell_type": "code",
      "metadata": {
        "id": "TgA8nddduQMP",
        "colab_type": "code",
        "outputId": "ce5f6c96-0a81-4506-f036-10e21b31911a",
        "colab": {
          "base_uri": "https://localhost:8080/",
          "height": 71
        }
      },
      "source": [
        "zeros = np.zeros([3,3])\n",
        "zeros"
      ],
      "execution_count": 0,
      "outputs": [
        {
          "output_type": "execute_result",
          "data": {
            "text/plain": [
              "array([[0., 0., 0.],\n",
              "       [0., 0., 0.],\n",
              "       [0., 0., 0.]])"
            ]
          },
          "metadata": {
            "tags": []
          },
          "execution_count": 18
        }
      ]
    },
    {
      "cell_type": "code",
      "metadata": {
        "id": "kHj0Q33Juf7f",
        "colab_type": "code",
        "outputId": "d28c9607-a554-427a-9860-f1fea5009a53",
        "colab": {
          "base_uri": "https://localhost:8080/",
          "height": 197
        }
      },
      "source": [
        "ones = np.ones([10,5])\n",
        "ones"
      ],
      "execution_count": 0,
      "outputs": [
        {
          "output_type": "execute_result",
          "data": {
            "text/plain": [
              "array([[1., 1., 1., 1., 1.],\n",
              "       [1., 1., 1., 1., 1.],\n",
              "       [1., 1., 1., 1., 1.],\n",
              "       [1., 1., 1., 1., 1.],\n",
              "       [1., 1., 1., 1., 1.],\n",
              "       [1., 1., 1., 1., 1.],\n",
              "       [1., 1., 1., 1., 1.],\n",
              "       [1., 1., 1., 1., 1.],\n",
              "       [1., 1., 1., 1., 1.],\n",
              "       [1., 1., 1., 1., 1.]])"
            ]
          },
          "metadata": {
            "tags": []
          },
          "execution_count": 20
        }
      ]
    },
    {
      "cell_type": "code",
      "metadata": {
        "id": "TtypCVmcupmb",
        "colab_type": "code",
        "outputId": "b500df64-29f0-4c10-b7bd-72c6264e6305",
        "colab": {
          "base_uri": "https://localhost:8080/",
          "height": 197
        }
      },
      "source": [
        "ones *5 "
      ],
      "execution_count": 0,
      "outputs": [
        {
          "output_type": "execute_result",
          "data": {
            "text/plain": [
              "array([[5., 5., 5., 5., 5.],\n",
              "       [5., 5., 5., 5., 5.],\n",
              "       [5., 5., 5., 5., 5.],\n",
              "       [5., 5., 5., 5., 5.],\n",
              "       [5., 5., 5., 5., 5.],\n",
              "       [5., 5., 5., 5., 5.],\n",
              "       [5., 5., 5., 5., 5.],\n",
              "       [5., 5., 5., 5., 5.],\n",
              "       [5., 5., 5., 5., 5.],\n",
              "       [5., 5., 5., 5., 5.]])"
            ]
          },
          "metadata": {
            "tags": []
          },
          "execution_count": 21
        }
      ]
    },
    {
      "cell_type": "code",
      "metadata": {
        "id": "kzR_NyAAuyUD",
        "colab_type": "code",
        "outputId": "f0a6b04c-8cf7-4419-fe9b-72bfc0293933",
        "colab": {
          "base_uri": "https://localhost:8080/",
          "height": 35
        }
      },
      "source": [
        "arr = np.arange(5)\n",
        "arr"
      ],
      "execution_count": 0,
      "outputs": [
        {
          "output_type": "execute_result",
          "data": {
            "text/plain": [
              "array([0, 1, 2, 3, 4])"
            ]
          },
          "metadata": {
            "tags": []
          },
          "execution_count": 22
        }
      ]
    },
    {
      "cell_type": "code",
      "metadata": {
        "id": "lyYEAjEnu4H-",
        "colab_type": "code",
        "outputId": "e4c819cd-029a-4583-c68d-f8a8c3210dff",
        "colab": {
          "base_uri": "https://localhost:8080/",
          "height": 35
        }
      },
      "source": [
        "arr = np.arange(4,9)\n",
        "arr"
      ],
      "execution_count": 0,
      "outputs": [
        {
          "output_type": "execute_result",
          "data": {
            "text/plain": [
              "array([4, 5, 6, 7, 8])"
            ]
          },
          "metadata": {
            "tags": []
          },
          "execution_count": 24
        }
      ]
    },
    {
      "cell_type": "code",
      "metadata": {
        "id": "0z5z4GgIvC5E",
        "colab_type": "code",
        "outputId": "9eeac8fe-7131-4f81-be69-520ec758784f",
        "colab": {
          "base_uri": "https://localhost:8080/",
          "height": 71
        }
      },
      "source": [
        "arr = np.arange(9).reshape(3,3)\n",
        "arr"
      ],
      "execution_count": 0,
      "outputs": [
        {
          "output_type": "execute_result",
          "data": {
            "text/plain": [
              "array([[0, 1, 2],\n",
              "       [3, 4, 5],\n",
              "       [6, 7, 8]])"
            ]
          },
          "metadata": {
            "tags": []
          },
          "execution_count": 27
        }
      ]
    },
    {
      "cell_type": "markdown",
      "metadata": {
        "id": "yjZxVJCZuvN9",
        "colab_type": "text"
      },
      "source": [
        "Index\n"
      ]
    },
    {
      "cell_type": "code",
      "metadata": {
        "id": "L7HSTetPvPe1",
        "colab_type": "code",
        "outputId": "6d99d1cf-e05a-44a0-ae25-c687eedf4544",
        "colab": {
          "base_uri": "https://localhost:8080/",
          "height": 35
        }
      },
      "source": [
        "nums = [1,2,3,4,5]\n",
        "nums[2:]"
      ],
      "execution_count": 0,
      "outputs": [
        {
          "output_type": "execute_result",
          "data": {
            "text/plain": [
              "[3, 4, 5]"
            ]
          },
          "metadata": {
            "tags": []
          },
          "execution_count": 28
        }
      ]
    },
    {
      "cell_type": "code",
      "metadata": {
        "id": "qiS0ZxuhvWQY",
        "colab_type": "code",
        "outputId": "f35bf48d-7b2e-4fff-f851-e79588778f24",
        "colab": {
          "base_uri": "https://localhost:8080/",
          "height": 35
        }
      },
      "source": [
        "nums = [1,2,3,4,[1,2,3]]\n",
        "nums[4]"
      ],
      "execution_count": 0,
      "outputs": [
        {
          "output_type": "execute_result",
          "data": {
            "text/plain": [
              "[1, 2, 3]"
            ]
          },
          "metadata": {
            "tags": []
          },
          "execution_count": 29
        }
      ]
    },
    {
      "cell_type": "code",
      "metadata": {
        "id": "yCQKwWmLvk9f",
        "colab_type": "code",
        "outputId": "e8afca0c-d3d2-4a9e-f9d6-440c0930d715",
        "colab": {
          "base_uri": "https://localhost:8080/",
          "height": 35
        }
      },
      "source": [
        "arr[1][2]\n"
      ],
      "execution_count": 0,
      "outputs": [
        {
          "output_type": "execute_result",
          "data": {
            "text/plain": [
              "5"
            ]
          },
          "metadata": {
            "tags": []
          },
          "execution_count": 31
        }
      ]
    },
    {
      "cell_type": "markdown",
      "metadata": {
        "id": "wKGMlG3nvulm",
        "colab_type": "text"
      },
      "source": [
        "Slicing\n"
      ]
    },
    {
      "cell_type": "code",
      "metadata": {
        "id": "O21fp_SRvwVW",
        "colab_type": "code",
        "outputId": "43a9b3c1-489e-47ed-f1e9-b5d094dd5a9e",
        "colab": {
          "base_uri": "https://localhost:8080/",
          "height": 71
        }
      },
      "source": [
        "arr"
      ],
      "execution_count": 0,
      "outputs": [
        {
          "output_type": "execute_result",
          "data": {
            "text/plain": [
              "array([[0, 1, 2],\n",
              "       [3, 4, 5],\n",
              "       [6, 7, 8]])"
            ]
          },
          "metadata": {
            "tags": []
          },
          "execution_count": 32
        }
      ]
    },
    {
      "cell_type": "code",
      "metadata": {
        "id": "ogUFk5RIv0Od",
        "colab_type": "code",
        "outputId": "c5c76ea3-4db0-408c-c2a9-a2375779df35",
        "colab": {
          "base_uri": "https://localhost:8080/",
          "height": 53
        }
      },
      "source": [
        "arr[1:]"
      ],
      "execution_count": 0,
      "outputs": [
        {
          "output_type": "execute_result",
          "data": {
            "text/plain": [
              "array([[3, 4, 5],\n",
              "       [6, 7, 8]])"
            ]
          },
          "metadata": {
            "tags": []
          },
          "execution_count": 33
        }
      ]
    },
    {
      "cell_type": "code",
      "metadata": {
        "id": "nGxKSkfXv4aS",
        "colab_type": "code",
        "outputId": "be5bdd74-2e5c-4b27-bd7b-e4fff9c6a205",
        "colab": {
          "base_uri": "https://localhost:8080/",
          "height": 53
        }
      },
      "source": [
        "arr[1:,1:]"
      ],
      "execution_count": 0,
      "outputs": [
        {
          "output_type": "execute_result",
          "data": {
            "text/plain": [
              "array([[4, 5],\n",
              "       [7, 8]])"
            ]
          },
          "metadata": {
            "tags": []
          },
          "execution_count": 34
        }
      ]
    },
    {
      "cell_type": "markdown",
      "metadata": {
        "id": "K5ypIqWJv8Pa",
        "colab_type": "text"
      },
      "source": [
        "Boolean Indexing\n"
      ]
    },
    {
      "cell_type": "code",
      "metadata": {
        "id": "NfMqyj3Ov_Od",
        "colab_type": "code",
        "outputId": "f10259c6-0328-43af-f421-0e9ea85defa8",
        "colab": {
          "base_uri": "https://localhost:8080/",
          "height": 71
        }
      },
      "source": [
        "data = np.random.randn(3,3)\n",
        "data"
      ],
      "execution_count": 0,
      "outputs": [
        {
          "output_type": "execute_result",
          "data": {
            "text/plain": [
              "array([[ 1.51831974, -0.24092282, -0.1469287 ],\n",
              "       [-0.30419964,  0.42978757,  0.35602953],\n",
              "       [-1.82160186,  1.23725901, -1.33083133]])"
            ]
          },
          "metadata": {
            "tags": []
          },
          "execution_count": 35
        }
      ]
    },
    {
      "cell_type": "code",
      "metadata": {
        "id": "gpBZlZFowFih",
        "colab_type": "code",
        "outputId": "64392437-4cfb-4a9a-a0be-f8d4e660f8d6",
        "colab": {
          "base_uri": "https://localhost:8080/",
          "height": 71
        }
      },
      "source": [
        "data <=0"
      ],
      "execution_count": 0,
      "outputs": [
        {
          "output_type": "execute_result",
          "data": {
            "text/plain": [
              "array([[False,  True,  True],\n",
              "       [ True, False, False],\n",
              "       [ True, False,  True]])"
            ]
          },
          "metadata": {
            "tags": []
          },
          "execution_count": 36
        }
      ]
    },
    {
      "cell_type": "code",
      "metadata": {
        "id": "NjN0o-YLwJma",
        "colab_type": "code",
        "outputId": "c7b46cf1-fdad-4c0d-f6bc-3e3520d4f323",
        "colab": {
          "base_uri": "https://localhost:8080/",
          "height": 35
        }
      },
      "source": [
        "data[data <=0 ]"
      ],
      "execution_count": 0,
      "outputs": [
        {
          "output_type": "execute_result",
          "data": {
            "text/plain": [
              "array([-0.24092282, -0.1469287 , -0.30419964, -1.82160186, -1.33083133])"
            ]
          },
          "metadata": {
            "tags": []
          },
          "execution_count": 39
        }
      ]
    },
    {
      "cell_type": "markdown",
      "metadata": {
        "id": "dROXL-cVwWj5",
        "colab_type": "text"
      },
      "source": [
        "Broadcast\n"
      ]
    },
    {
      "cell_type": "code",
      "metadata": {
        "id": "N6A8YSTwwiGe",
        "colab_type": "code",
        "outputId": "8643071e-8f06-43a0-e351-e7ec0c55c909",
        "colab": {
          "base_uri": "https://localhost:8080/",
          "height": 71
        }
      },
      "source": [
        "arr = np.arange(9).reshape(3,3)\n",
        "arr"
      ],
      "execution_count": 0,
      "outputs": [
        {
          "output_type": "execute_result",
          "data": {
            "text/plain": [
              "array([[0, 1, 2],\n",
              "       [3, 4, 5],\n",
              "       [6, 7, 8]])"
            ]
          },
          "metadata": {
            "tags": []
          },
          "execution_count": 40
        }
      ]
    },
    {
      "cell_type": "code",
      "metadata": {
        "id": "oQGcAytYwpI0",
        "colab_type": "code",
        "outputId": "8c9547d7-25f9-419a-d152-cc15dab240df",
        "colab": {
          "base_uri": "https://localhost:8080/",
          "height": 71
        }
      },
      "source": [
        "arr +3"
      ],
      "execution_count": 0,
      "outputs": [
        {
          "output_type": "execute_result",
          "data": {
            "text/plain": [
              "array([[ 3,  4,  5],\n",
              "       [ 6,  7,  8],\n",
              "       [ 9, 10, 11]])"
            ]
          },
          "metadata": {
            "tags": []
          },
          "execution_count": 41
        }
      ]
    },
    {
      "cell_type": "code",
      "metadata": {
        "id": "oi6yxvR9wr7a",
        "colab_type": "code",
        "outputId": "e5eabfa9-76b8-41f8-effe-a4028244dfaa",
        "colab": {
          "base_uri": "https://localhost:8080/",
          "height": 71
        }
      },
      "source": [
        "arr *3"
      ],
      "execution_count": 0,
      "outputs": [
        {
          "output_type": "execute_result",
          "data": {
            "text/plain": [
              "array([[ 0,  3,  6],\n",
              "       [ 9, 12, 15],\n",
              "       [18, 21, 24]])"
            ]
          },
          "metadata": {
            "tags": []
          },
          "execution_count": 42
        }
      ]
    },
    {
      "cell_type": "code",
      "metadata": {
        "id": "tQO6Bq-zwuWZ",
        "colab_type": "code",
        "outputId": "23a2894d-8735-4fb6-fd2c-28eb35ab7b6e",
        "colab": {
          "base_uri": "https://localhost:8080/",
          "height": 71
        }
      },
      "source": [
        "arr + np.array([1,2,3])"
      ],
      "execution_count": 0,
      "outputs": [
        {
          "output_type": "execute_result",
          "data": {
            "text/plain": [
              "array([[ 1,  3,  5],\n",
              "       [ 4,  6,  8],\n",
              "       [ 7,  9, 11]])"
            ]
          },
          "metadata": {
            "tags": []
          },
          "execution_count": 44
        }
      ]
    },
    {
      "cell_type": "markdown",
      "metadata": {
        "id": "CS4FghHixLp2",
        "colab_type": "text"
      },
      "source": [
        "Math Function\n"
      ]
    },
    {
      "cell_type": "code",
      "metadata": {
        "id": "5yZd14baxND2",
        "colab_type": "code",
        "outputId": "8eb67fe4-1408-46e9-983b-4493b68fe677",
        "colab": {
          "base_uri": "https://localhost:8080/",
          "height": 71
        }
      },
      "source": [
        "arr + 10"
      ],
      "execution_count": 0,
      "outputs": [
        {
          "output_type": "execute_result",
          "data": {
            "text/plain": [
              "array([[10, 11, 12],\n",
              "       [13, 14, 15],\n",
              "       [16, 17, 18]])"
            ]
          },
          "metadata": {
            "tags": []
          },
          "execution_count": 45
        }
      ]
    },
    {
      "cell_type": "code",
      "metadata": {
        "id": "vyWl6Oa-xUed",
        "colab_type": "code",
        "outputId": "3928f733-4f02-46a6-9045-1e3e7a5b68a7",
        "colab": {
          "base_uri": "https://localhost:8080/",
          "height": 71
        }
      },
      "source": [
        "arr + arr "
      ],
      "execution_count": 0,
      "outputs": [
        {
          "output_type": "execute_result",
          "data": {
            "text/plain": [
              "array([[ 0,  2,  4],\n",
              "       [ 6,  8, 10],\n",
              "       [12, 14, 16]])"
            ]
          },
          "metadata": {
            "tags": []
          },
          "execution_count": 46
        }
      ]
    },
    {
      "cell_type": "code",
      "metadata": {
        "id": "DBuUbImixXCq",
        "colab_type": "code",
        "outputId": "37a3f1c7-78d2-4c58-e0e7-a4d80ea728e6",
        "colab": {
          "base_uri": "https://localhost:8080/",
          "height": 71
        }
      },
      "source": [
        "np.add(arr,1)"
      ],
      "execution_count": 0,
      "outputs": [
        {
          "output_type": "execute_result",
          "data": {
            "text/plain": [
              "array([[1, 2, 3],\n",
              "       [4, 5, 6],\n",
              "       [7, 8, 9]])"
            ]
          },
          "metadata": {
            "tags": []
          },
          "execution_count": 47
        }
      ]
    },
    {
      "cell_type": "code",
      "metadata": {
        "id": "gw3GsUwuxarh",
        "colab_type": "code",
        "outputId": "cfc49279-04f0-436e-ef6d-55cbce67f554",
        "colab": {
          "base_uri": "https://localhost:8080/",
          "height": 71
        }
      },
      "source": [
        "arr + 1"
      ],
      "execution_count": 0,
      "outputs": [
        {
          "output_type": "execute_result",
          "data": {
            "text/plain": [
              "array([[1, 2, 3],\n",
              "       [4, 5, 6],\n",
              "       [7, 8, 9]])"
            ]
          },
          "metadata": {
            "tags": []
          },
          "execution_count": 48
        }
      ]
    },
    {
      "cell_type": "code",
      "metadata": {
        "id": "LRtNJHt3xcnq",
        "colab_type": "code",
        "outputId": "2e89bfc2-d44c-4a1e-c544-5056fb1b697a",
        "colab": {
          "base_uri": "https://localhost:8080/",
          "height": 71
        }
      },
      "source": [
        "np.multiply(arr,3)"
      ],
      "execution_count": 0,
      "outputs": [
        {
          "output_type": "execute_result",
          "data": {
            "text/plain": [
              "array([[ 0,  3,  6],\n",
              "       [ 9, 12, 15],\n",
              "       [18, 21, 24]])"
            ]
          },
          "metadata": {
            "tags": []
          },
          "execution_count": 50
        }
      ]
    },
    {
      "cell_type": "code",
      "metadata": {
        "id": "h5TkXWfqxkks",
        "colab_type": "code",
        "colab": {}
      },
      "source": [
        "arr = np.random.randint(2, size=27).reshape(3,3,3)\n",
        "arr_2 = np.random.randint(2, size = 9).reshape(3,3)"
      ],
      "execution_count": 0,
      "outputs": []
    },
    {
      "cell_type": "code",
      "metadata": {
        "id": "ahMtc8vdyNFv",
        "colab_type": "code",
        "outputId": "f5d32ba3-a909-45db-b0a0-eb04333cb3fd",
        "colab": {
          "base_uri": "https://localhost:8080/",
          "height": 215
        }
      },
      "source": [
        "arr"
      ],
      "execution_count": 0,
      "outputs": [
        {
          "output_type": "execute_result",
          "data": {
            "text/plain": [
              "array([[[0, 0, 0],\n",
              "        [0, 0, 0],\n",
              "        [1, 1, 1]],\n",
              "\n",
              "       [[1, 0, 0],\n",
              "        [0, 1, 0],\n",
              "        [1, 1, 0]],\n",
              "\n",
              "       [[1, 0, 1],\n",
              "        [1, 1, 0],\n",
              "        [0, 1, 1]]])"
            ]
          },
          "metadata": {
            "tags": []
          },
          "execution_count": 54
        }
      ]
    },
    {
      "cell_type": "code",
      "metadata": {
        "id": "0Dgyxnu3-Uip",
        "colab_type": "code",
        "outputId": "837373be-2636-47b6-e437-e943a433f4d6",
        "colab": {
          "base_uri": "https://localhost:8080/",
          "height": 35
        }
      },
      "source": [
        "arr.shape"
      ],
      "execution_count": 0,
      "outputs": [
        {
          "output_type": "execute_result",
          "data": {
            "text/plain": [
              "(3, 3, 3)"
            ]
          },
          "metadata": {
            "tags": []
          },
          "execution_count": 56
        }
      ]
    },
    {
      "cell_type": "code",
      "metadata": {
        "id": "JKKXSbUe-teO",
        "colab_type": "code",
        "outputId": "bfa0ea0c-e920-4ca2-a562-96b2160b5e2d",
        "colab": {
          "base_uri": "https://localhost:8080/",
          "height": 71
        }
      },
      "source": [
        "arr_2"
      ],
      "execution_count": 0,
      "outputs": [
        {
          "output_type": "execute_result",
          "data": {
            "text/plain": [
              "array([[1, 1, 0],\n",
              "       [1, 0, 1],\n",
              "       [1, 0, 0]])"
            ]
          },
          "metadata": {
            "tags": []
          },
          "execution_count": 57
        }
      ]
    },
    {
      "cell_type": "code",
      "metadata": {
        "id": "8reBPMmh-xDG",
        "colab_type": "code",
        "outputId": "95c27960-e678-4919-f0d8-3d65bb3a56ab",
        "colab": {
          "base_uri": "https://localhost:8080/",
          "height": 215
        }
      },
      "source": [
        "arr + arr_2"
      ],
      "execution_count": 0,
      "outputs": [
        {
          "output_type": "execute_result",
          "data": {
            "text/plain": [
              "array([[[1, 1, 0],\n",
              "        [1, 0, 1],\n",
              "        [2, 1, 1]],\n",
              "\n",
              "       [[2, 1, 0],\n",
              "        [1, 1, 1],\n",
              "        [2, 1, 0]],\n",
              "\n",
              "       [[2, 1, 1],\n",
              "        [2, 1, 1],\n",
              "        [1, 1, 1]]])"
            ]
          },
          "metadata": {
            "tags": []
          },
          "execution_count": 58
        }
      ]
    },
    {
      "cell_type": "code",
      "metadata": {
        "id": "oMDy1Hnj-3yH",
        "colab_type": "code",
        "outputId": "e5403d9f-394c-442d-b9e9-22079be4f131",
        "colab": {
          "base_uri": "https://localhost:8080/",
          "height": 35
        }
      },
      "source": [
        "np.sum(arr)"
      ],
      "execution_count": 0,
      "outputs": [
        {
          "output_type": "execute_result",
          "data": {
            "text/plain": [
              "13"
            ]
          },
          "metadata": {
            "tags": []
          },
          "execution_count": 59
        }
      ]
    },
    {
      "cell_type": "code",
      "metadata": {
        "id": "LPiOSvXb--wk",
        "colab_type": "code",
        "outputId": "813d6717-52b0-4941-b4c0-798601309192",
        "colab": {
          "base_uri": "https://localhost:8080/",
          "height": 35
        }
      },
      "source": [
        "np.max(arr+arr_2)"
      ],
      "execution_count": 0,
      "outputs": [
        {
          "output_type": "execute_result",
          "data": {
            "text/plain": [
              "2"
            ]
          },
          "metadata": {
            "tags": []
          },
          "execution_count": 61
        }
      ]
    },
    {
      "cell_type": "code",
      "metadata": {
        "id": "c6ayHXnc_Ugb",
        "colab_type": "code",
        "outputId": "ef4af080-cc11-4a2f-c2cc-625684482f32",
        "colab": {
          "base_uri": "https://localhost:8080/",
          "height": 71
        }
      },
      "source": [
        "np.sum(arr + arr_2,0)"
      ],
      "execution_count": 0,
      "outputs": [
        {
          "output_type": "execute_result",
          "data": {
            "text/plain": [
              "array([[5, 3, 1],\n",
              "       [4, 2, 3],\n",
              "       [5, 3, 2]])"
            ]
          },
          "metadata": {
            "tags": []
          },
          "execution_count": 62
        }
      ]
    },
    {
      "cell_type": "code",
      "metadata": {
        "id": "U5K-uoLL_qfJ",
        "colab_type": "code",
        "outputId": "90a55b0c-6c20-4d24-b05f-b8571ec614da",
        "colab": {
          "base_uri": "https://localhost:8080/",
          "height": 71
        }
      },
      "source": [
        "np.sum(arr + arr_2, axis = - 1)"
      ],
      "execution_count": 0,
      "outputs": [
        {
          "output_type": "execute_result",
          "data": {
            "text/plain": [
              "array([[2, 2, 4],\n",
              "       [3, 3, 3],\n",
              "       [4, 4, 3]])"
            ]
          },
          "metadata": {
            "tags": []
          },
          "execution_count": 63
        }
      ]
    },
    {
      "cell_type": "code",
      "metadata": {
        "id": "KRI91CG8_zrm",
        "colab_type": "code",
        "outputId": "3dad99ab-4ea8-4d07-b034-57713e647b73",
        "colab": {
          "base_uri": "https://localhost:8080/",
          "height": 35
        }
      },
      "source": [
        "arr = np.array([1,6,3,7,2,9,0,2])\n",
        "arr"
      ],
      "execution_count": 0,
      "outputs": [
        {
          "output_type": "execute_result",
          "data": {
            "text/plain": [
              "array([1, 6, 3, 7, 2, 9, 0, 2])"
            ]
          },
          "metadata": {
            "tags": []
          },
          "execution_count": 64
        }
      ]
    },
    {
      "cell_type": "code",
      "metadata": {
        "id": "OIfuNDag_7AC",
        "colab_type": "code",
        "outputId": "37f3cd19-67ad-4325-f513-9b94b2c241b8",
        "colab": {
          "base_uri": "https://localhost:8080/",
          "height": 35
        }
      },
      "source": [
        "np.argmax(arr)"
      ],
      "execution_count": 0,
      "outputs": [
        {
          "output_type": "execute_result",
          "data": {
            "text/plain": [
              "5"
            ]
          },
          "metadata": {
            "tags": []
          },
          "execution_count": 65
        }
      ]
    },
    {
      "cell_type": "code",
      "metadata": {
        "id": "U85tCuGo_9wJ",
        "colab_type": "code",
        "outputId": "711664ed-020c-420b-9750-aa4bd5e435fd",
        "colab": {
          "base_uri": "https://localhost:8080/",
          "height": 35
        }
      },
      "source": [
        "np.argmin(arr)"
      ],
      "execution_count": 0,
      "outputs": [
        {
          "output_type": "execute_result",
          "data": {
            "text/plain": [
              "6"
            ]
          },
          "metadata": {
            "tags": []
          },
          "execution_count": 66
        }
      ]
    },
    {
      "cell_type": "code",
      "metadata": {
        "id": "EkdQWqRjAGua",
        "colab_type": "code",
        "outputId": "6025879b-ae2d-46ac-962a-dfbf3a93ce59",
        "colab": {
          "base_uri": "https://localhost:8080/",
          "height": 35
        }
      },
      "source": [
        "np.unique(arr)"
      ],
      "execution_count": 0,
      "outputs": [
        {
          "output_type": "execute_result",
          "data": {
            "text/plain": [
              "array([0, 1, 2, 3, 6, 7, 9])"
            ]
          },
          "metadata": {
            "tags": []
          },
          "execution_count": 67
        }
      ]
    }
  ]
}